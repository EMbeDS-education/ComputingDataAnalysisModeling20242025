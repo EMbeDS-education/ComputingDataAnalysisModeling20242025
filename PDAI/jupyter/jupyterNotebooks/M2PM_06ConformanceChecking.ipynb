{
 "cells": [
  {
   "cell_type": "code",
   "execution_count": null,
   "id": "0e6439a9-3560-43c2-8198-5c65d58daf81",
   "metadata": {},
   "outputs": [],
   "source": []
  },
  {
   "cell_type": "markdown",
   "id": "03e23c8f-f89a-48d2-a435-1a87052a1e52",
   "metadata": {},
   "source": [
    "<center><font size=\"+4\">Programming & Data Analytics & AI 2 PM 2024/2025</font></center>\n",
    "<center><font size=\"+2\">Sant'Anna School of Advanced Studies, Pisa, Italy</font></center>\n",
    "<center><img src=\"https://github.com/EMbeDS-education/ComputingDataAnalysisModeling20242025/raw/main/PDAI/jupyter/jupyterNotebooks/images/sssaLEMBEDSdtu.png\" width=\"900\" alt=\"L'EMbeDS\"></center>\n",
    "\n",
    "<center><font size=\"+2\">Course responsible</font></center>\n",
    "<center><font size=\"+2\">Andrea Vandin a.vandin@santannapisa.it</font></center>\n",
    "\n",
    "---"
   ]
  },
  {
   "cell_type": "markdown",
   "id": "f8e4fece-4743-47d6-9ce0-3a2749a38c86",
   "metadata": {},
   "source": [
    "<center><font size=\"+2\">Notebook for Class 8 </font></center>\n",
    "<center><font size=\"+2\"> Conformance Checking. Data lab\n",
    "</font></center>\n",
    "\n",
    "---\n",
    "---"
   ]
  },
  {
   "cell_type": "code",
   "execution_count": 32,
   "id": "51c1748e-76c1-4f60-9af9-6a8e4b126d1c",
   "metadata": {},
   "outputs": [],
   "source": [
    "url_github_repo=\"https://github.com/EMbeDS-education/ComputingDataAnalysisModeling20242025/raw/main/PDAI/\"\n",
    "\n",
    "pm_slides=url_github_repo+'jupyter/jupyterNotebooks/images/PM/'\n",
    "from IPython.display import Image, display"
   ]
  },
  {
   "cell_type": "code",
   "execution_count": 33,
   "id": "0074d1b5-6962-44ad-8b45-52122a82915f",
   "metadata": {},
   "outputs": [
    {
     "name": "stdout",
     "output_type": "stream",
     "text": [
      "Downloading https://raw.githubusercontent.com/EMbeDS-education/ComputingDataAnalysisModeling20242025/main/PDAI/jupyter/jupyterNotebooks/simplifiedCustomerComplaintHandling.xes\n"
     ]
    }
   ],
   "source": [
    "#Here we create a 'string' variable pointing to our repository...\n",
    "url1 = 'https://raw.githubusercontent.com/EMbeDS-education/ComputingDataAnalysisModeling20242025/main/PDAI/jupyter/jupyterNotebooks/simplifiedCustomerComplaintHandling.xes'\n",
    "\n",
    "urls=[url1]\n",
    "\n",
    "import urllib.request\n",
    "from pathlib import Path\n",
    "\n",
    "for url in urls:\n",
    "    print('Downloading',url)\n",
    "    urllib.request.urlretrieve(url,Path(url).name)"
   ]
  },
  {
   "cell_type": "markdown",
   "id": "9845651c-8bd0-47a2-b1c5-0f04590c1431",
   "metadata": {},
   "source": [
    "For an informed discussion on this topic, I recommend you watching classes of Module 3 of the [Coursera course on PM](https://www.coursera.org/learn/process-mining/home/welcome)\n",
    "- https://www.coursera.org/learn/process-mining/home/module/3\n",
    "\n"
   ]
  },
  {
   "cell_type": "markdown",
   "id": "ec465682-3d02-4299-b2a9-9954f23e64ad",
   "metadata": {},
   "source": [
    "> Below we provide screenshots from some slides used above"
   ]
  },
  {
   "cell_type": "markdown",
   "id": "c7c1fb38-529b-4e33-b1e3-d1f623c98e1a",
   "metadata": {},
   "source": [
    "# Overview"
   ]
  },
  {
   "cell_type": "markdown",
   "id": "fafb0f1e-5e91-4edd-bc95-11b68184bb19",
   "metadata": {},
   "source": [
    "Often, one wants to compare an event log with\n",
    "- A reference (or normative) model\n",
    "- A mined model\n",
    "\n",
    "This is done to\n",
    "- understand whether the expected behavior actually occurs\n",
    "- identify and analyze deviations\n",
    "  - These _outliers_ are often the  _interesting cases_\n",
    "    - some may be good (doctors deviate to save the life of a specific patient)\n",
    "    - some may be bad (an office forgets performing a quality  check before sending money out)"
   ]
  },
  {
   "cell_type": "markdown",
   "id": "0211ca75-acf4-4e0a-ac2f-9465a5131eaf",
   "metadata": {},
   "source": [
    "During the classes on pm4py we studied two approaches to conformance checking\n",
    "- token-based \n",
    "  - tells us how much each trace and all logs conform to a model (it counts missing and remaining tokens)\n",
    "- alignment-based\n",
    "  1. tells us how much each trace and all logs conform to a model\n",
    "  2. tells us how to modify the model or traces to make the model conformant\n"
   ]
  },
  {
   "cell_type": "code",
   "execution_count": null,
   "id": "ff4feffc-267d-443d-bffd-2ad9abe5137f",
   "metadata": {},
   "outputs": [],
   "source": [
    "img=Image(pm_slides+'confFitness.png',width=700)\n",
    "display(img)"
   ]
  },
  {
   "cell_type": "markdown",
   "id": "bd232bac-12b2-41b9-b18d-5f82b5a153bb",
   "metadata": {},
   "source": [
    "# Conformance checking based on Causal footprints"
   ]
  },
  {
   "cell_type": "code",
   "execution_count": null,
   "id": "d0c581ed-d799-4a66-ab1c-cbf0a6bc9abd",
   "metadata": {},
   "outputs": [],
   "source": []
  },
  {
   "cell_type": "markdown",
   "id": "69ba38f7-054d-49ef-8b7c-e2d394883511",
   "metadata": {},
   "source": [
    "# Conformance checking based on Token-based replay "
   ]
  },
  {
   "cell_type": "code",
   "execution_count": null,
   "id": "ab7007e5-12f9-4088-8fdf-9ea1b849dc7c",
   "metadata": {},
   "outputs": [],
   "source": []
  },
  {
   "cell_type": "markdown",
   "id": "d866aa6c-6da1-481e-a36d-df6a731d8dcc",
   "metadata": {},
   "source": [
    "# Conformance checking based on Alignment"
   ]
  },
  {
   "cell_type": "code",
   "execution_count": null,
   "id": "0d038f26-2fc2-4988-abf1-c88bd70112d8",
   "metadata": {},
   "outputs": [],
   "source": []
  },
  {
   "cell_type": "code",
   "execution_count": null,
   "id": "d99fe451-2c36-4324-844d-9353f1ceb875",
   "metadata": {},
   "outputs": [],
   "source": []
  }
 ],
 "metadata": {
  "kernelspec": {
   "display_name": "env_research",
   "language": "python",
   "name": "env_research"
  },
  "language_info": {
   "codemirror_mode": {
    "name": "ipython",
    "version": 3
   },
   "file_extension": ".py",
   "mimetype": "text/x-python",
   "name": "python",
   "nbconvert_exporter": "python",
   "pygments_lexer": "ipython3",
   "version": "3.9.10"
  }
 },
 "nbformat": 4,
 "nbformat_minor": 5
}
