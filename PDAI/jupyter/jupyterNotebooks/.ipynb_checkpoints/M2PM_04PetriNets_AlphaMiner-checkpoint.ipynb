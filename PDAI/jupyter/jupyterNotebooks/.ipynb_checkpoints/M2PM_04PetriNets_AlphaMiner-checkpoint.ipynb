{
 "cells": [
  {
   "cell_type": "markdown",
   "id": "5311b31a-f349-41f5-86b8-68139569862a",
   "metadata": {},
   "source": [
    "<center><font size=\"+4\">Programming & Data Analytics & AI 2 PM 2024/2025</font></center>\n",
    "<center><font size=\"+2\">Sant'Anna School of Advanced Studies, Pisa, Italy</font></center>\n",
    "<center><img src=\"https://github.com/EMbeDS-education/ComputingDataAnalysisModeling20242025/raw/main/PDAI/jupyter/jupyterNotebooks/images/sssaLEMBEDSdtu.png\" width=\"900\" alt=\"L'EMbeDS\"></center>\n",
    "\n",
    "<center><font size=\"+2\">Course responsible</font></center>\n",
    "<center><font size=\"+2\">Andrea Vandin a.vandin@santannapisa.it</font></center>\n",
    "\n",
    "---"
   ]
  },
  {
   "cell_type": "markdown",
   "id": "5530b57d-4cb2-4839-8e76-d89c4bb379c9",
   "metadata": {},
   "source": [
    "<center><font size=\"+2\">Notebook for Class 6 </font></center>\n",
    "<center><font size=\"+2\">Petri nets and Alpha miner. Data Lab\n",
    "</font></center>\n",
    "\n",
    "---\n",
    "---"
   ]
  },
  {
   "cell_type": "code",
   "execution_count": 40,
   "id": "97134d2b-faba-4f75-9b15-711619ff0594",
   "metadata": {},
   "outputs": [],
   "source": [
    "url_github_repo=\"https://github.com/EMbeDS-education/ComputingDataAnalysisModeling20242025/raw/main/PDAI/\""
   ]
  },
  {
   "cell_type": "code",
   "execution_count": 41,
   "id": "5455c686-2ac2-4409-b091-097edb83bd55",
   "metadata": {},
   "outputs": [
    {
     "ename": "NameError",
     "evalue": "name 'url3' is not defined",
     "output_type": "error",
     "traceback": [
      "\u001b[0;31m---------------------------------------------------------------------------\u001b[0m",
      "\u001b[0;31mNameError\u001b[0m                                 Traceback (most recent call last)",
      "Input \u001b[0;32mIn [41]\u001b[0m, in \u001b[0;36m<cell line: 5>\u001b[0;34m()\u001b[0m\n\u001b[1;32m      2\u001b[0m url1 \u001b[38;5;241m=\u001b[39m \u001b[38;5;124m'\u001b[39m\u001b[38;5;124mhttps://raw.githubusercontent.com/EMbeDS-education/ComputingDataAnalysisModeling20242025/main/PDAI/jupyter/jupyterNotebooks/L1.csv\u001b[39m\u001b[38;5;124m'\u001b[39m\n\u001b[1;32m      3\u001b[0m url2 \u001b[38;5;241m=\u001b[39m \u001b[38;5;124m'\u001b[39m\u001b[38;5;124mhttps://raw.githubusercontent.com/EMbeDS-education/ComputingDataAnalysisModeling20242025/main/PDAI/jupyter/jupyterNotebooks/L3.csv\u001b[39m\u001b[38;5;124m'\u001b[39m\n\u001b[0;32m----> 5\u001b[0m urls\u001b[38;5;241m=\u001b[39m[url1,url2,\u001b[43murl3\u001b[49m,url4,url5,url6]\n\u001b[1;32m      7\u001b[0m \u001b[38;5;28;01mimport\u001b[39;00m \u001b[38;5;21;01murllib\u001b[39;00m\u001b[38;5;21;01m.\u001b[39;00m\u001b[38;5;21;01mrequest\u001b[39;00m\n\u001b[1;32m      8\u001b[0m \u001b[38;5;28;01mfrom\u001b[39;00m \u001b[38;5;21;01mpathlib\u001b[39;00m \u001b[38;5;28;01mimport\u001b[39;00m Path\n",
      "\u001b[0;31mNameError\u001b[0m: name 'url3' is not defined"
     ]
    }
   ],
   "source": [
    "#Here we create a 'string' variable pointing to our repository...\n",
    "url1 = 'https://raw.githubusercontent.com/EMbeDS-education/ComputingDataAnalysisModeling20242025/main/PDAI/jupyter/jupyterNotebooks/L1.csv'\n",
    "url2 = 'https://raw.githubusercontent.com/EMbeDS-education/ComputingDataAnalysisModeling20242025/main/PDAI/jupyter/jupyterNotebooks/L3.csv'\n",
    "\n",
    "urls=[url1,url2]\n",
    "\n",
    "import urllib.request\n",
    "from pathlib import Path\n",
    "\n",
    "# for url in urls:\n",
    "#     print('Downloading',url)\n",
    "#     urllib.request.urlretrieve(url,Path(url).name)"
   ]
  },
  {
   "cell_type": "markdown",
   "id": "51969c0a-b894-445f-8548-ef49f4c9728a",
   "metadata": {},
   "source": [
    "How good are you with pm4py?\n",
    "- Let's test it! :D"
   ]
  },
  {
   "cell_type": "code",
   "execution_count": null,
   "id": "70478588-da1b-4ebb-8894-0519eb01749a",
   "metadata": {},
   "outputs": [],
   "source": [
    "from IPython.display import IFrame\n",
    "IFrame(\"https://kahoot.it/\", 500, 400)"
   ]
  },
  {
   "cell_type": "markdown",
   "id": "f112d999-0af6-4540-bb7f-f76f87d262dd",
   "metadata": {},
   "source": [
    "For an informed discussion on this topic, I recommend you watching classes from 2.2 to 2.7 of the [Coursera course on PM](https://www.coursera.org/learn/process-mining/home/welcome)\n",
    "- https://www.coursera.org/learn/process-mining/lecture/XGSCe/2-2-petri-nets-1-2\n",
    "\n"
   ]
  },
  {
   "cell_type": "markdown",
   "id": "9fc325bb-f052-4868-a8e5-984be394287b",
   "metadata": {},
   "source": [
    "- (2.2, 2.3) Examples on Petri nets \n",
    "- (2.4)\n",
    "  - Boundedness and safeness \n",
    "  - Deadlocks in Petri net\n",
    "  - Liveness\n",
    "  - Transition system, Traces, Complete traces\n",
    "- (2.5)\n",
    "  - Workflow nets (1 start state, 1 final state)\n",
    "  -  Soundness\n",
    "    - Safe: places cannot hold multiple tokens at the same time\n",
    "    - Proper completion: if the sink place is marked, all other places are empty\n",
    "      - Implied by Option to complete\n",
    "    - Option to complete: it is always possible to reach the marking that marks just the sink place\n",
    "    - Deadlock-free\n",
    "  - A WF-net is sound iff the corresponding short-circuited PN is live and bounded\n",
    "- (2.6): We learn WF-nets with Alpha miner"
   ]
  },
  {
   "cell_type": "markdown",
   "id": "ee2044e4-1b42-43fa-a2dd-abb9874c63e7",
   "metadata": {},
   "source": [
    "> Below we provide screenshots from some slides used above"
   ]
  },
  {
   "cell_type": "code",
   "execution_count": null,
   "id": "295c3058-1d0f-461a-8eb2-e80f456bd84d",
   "metadata": {},
   "outputs": [],
   "source": [
    "pm_slides=url_github_repo+'jupyter/jupyterNotebooks/images/PM/'\n",
    "from IPython.display import Image, display"
   ]
  },
  {
   "cell_type": "markdown",
   "id": "ffdfdc81-65b3-4fde-ac10-566b4a8a6fa0",
   "metadata": {},
   "source": [
    "# Recap on Petri Nets "
   ]
  },
  {
   "cell_type": "markdown",
   "id": "d48afcab-a910-4f33-9d10-d0a1dacf4e6b",
   "metadata": {},
   "source": [
    "..."
   ]
  },
  {
   "cell_type": "markdown",
   "id": "3096780d-5b08-4c2f-8540-c6d362d919ee",
   "metadata": {},
   "source": [
    "# (2.6): We learn WF-nets with Alpha miner"
   ]
  },
  {
   "cell_type": "markdown",
   "id": "3ca33525-1727-4627-94d0-490af948e831",
   "metadata": {},
   "source": [
    "## Process discovery"
   ]
  },
  {
   "cell_type": "markdown",
   "id": "15c567f9-6115-494e-a35e-c7a5f1ac197a",
   "metadata": {},
   "source": [
    "We can _play_ with logs in 3 ways:\n",
    "- Replay: we execute a log on a model. Often done to check compliance of a trace in a model\n",
    "- Play-out: we execute a model to create logs\n",
    "- __Play-in__: we use logs to discover a model!\n",
    "  -   This is the topic of this section"
   ]
  },
  {
   "cell_type": "code",
   "execution_count": null,
   "id": "fef2e2e1-d86a-4f7e-8ee0-6d186c1ad05b",
   "metadata": {},
   "outputs": [],
   "source": [
    "img=Image(pm_slides+'playOut.png',width=700)\n",
    "display(img)"
   ]
  },
  {
   "cell_type": "markdown",
   "id": "236be68b-1de2-4fa8-8884-a2f7bbca39b9",
   "metadata": {},
   "source": [
    "Typically, process idscovery algorithms take into acocunt just the activity column in event logs\n",
    "- There are recent ones using also other resources, but we are not going to study them"
   ]
  },
  {
   "cell_type": "code",
   "execution_count": null,
   "id": "85460d3d-dd76-4f3c-a2a2-f69973c79cc9",
   "metadata": {},
   "outputs": [],
   "source": [
    "img=Image(pm_slides+'justActivity.png',width=700)\n",
    "display(img)"
   ]
  },
  {
   "cell_type": "markdown",
   "id": "97a0d2e1-9eaf-4dfc-a97b-b149b5aa510f",
   "metadata": {},
   "source": [
    "A simple event log:\n",
    "$$L_1 = [<a,b,c,d>,<a,b,c,d>,<a,b,c,d>,\\ <a,c,b,d>,<a,c,b,d>,\\ <a,e,d>]$$\n",
    "\n",
    "Or, more compactly\n",
    "$$L_1 = [<a,b,c,d>^3,\\ <a,c,b,d>^2,\\ <a,e,d>]$$\n",
    "\n",
    "By now you should know that:\n",
    "- A trace is a sequence of activity names \n",
    "  - usually, in process discovery we abstract from all other attributes\n",
    "- An event log is a multiset of traces \n",
    "  - traces can appear more than once\n"
   ]
  },
  {
   "cell_type": "markdown",
   "id": "7e827b45-32c4-422b-8ce1-1270cd09d87c",
   "metadata": {},
   "source": [
    "Goal of Alpha algorithm\n",
    "- Strong assumption: the event log is _complete_: it contains all logs of interest\n",
    "  - Discover a model that can generate precisely all and only the traces in the log\n",
    "- Realistic assumption: the event log is __not__ _complete_: it contains a subset of all logs of interest\n",
    "  - Discover a model that can generate all the traces in the log, but also more, based on properties/regularities discovered in the traces"
   ]
  },
  {
   "cell_type": "code",
   "execution_count": null,
   "id": "c8e78423-5d03-438b-ae9a-112c52a5e20b",
   "metadata": {},
   "outputs": [],
   "source": [
    "img=Image(pm_slides+'alphaGoal.png',width=700)\n",
    "display(img)"
   ]
  },
  {
   "cell_type": "markdown",
   "id": "7bb8c11b-aab0-4dea-8844-644053193c79",
   "metadata": {},
   "source": [
    "For example, it may happen that:\n",
    "- we learn a model able to generate infinitely many traces\n",
    "  - here we have a _loop_:\n",
    "    - the execution of `b` and `c` enables `e`\n",
    "    - the execution of `e` enables `f`\n",
    "    - the execution of `f` enables `b` and `c`\n",
    "    - the execution of `b` and `c` enables `e`..."
   ]
  },
  {
   "cell_type": "code",
   "execution_count": null,
   "id": "06f1869f-2911-4a82-b1b2-ac9aa85b7351",
   "metadata": {},
   "outputs": [],
   "source": [
    "#img=Image(pm_slides+'alphaInfinite.png',width=700)\n",
    "#display(img)"
   ]
  },
  {
   "cell_type": "markdown",
   "id": "e5f8a635-9f67-41bf-9b61-c76088d4ce8b",
   "metadata": {},
   "source": [
    "## Challenges and metrics for process discovery: \n",
    "- as usual in Data Science, we have trade offs!\n",
    "\n",
    "__Fitness__ vs __Simplicity__\n",
    "- Fitness: Ability to replay the observed behavior\n",
    "- Simplicity: Keep model simple (Occam's razor)\n",
    "\n",
    "__Generalization__ vs __Precision__\n",
    "- Generalization: Avoid overfitting\n",
    "- Precision: Avoid underfitting\n",
    "\n"
   ]
  },
  {
   "cell_type": "markdown",
   "id": "316d8235-9dc1-4233-99f8-79a9a5dda6d5",
   "metadata": {},
   "source": [
    "## Alpha miner: the footprint"
   ]
  },
  {
   "cell_type": "markdown",
   "id": "8da3b9ce-8d1a-4e97-8496-d94ddd1dc6c0",
   "metadata": {},
   "source": [
    "The alpha algorithm is based on four relations among activities:\n",
    "- __Direct succession `>`__\n",
    "  - `a>b`: There is at least one trace where `b` is the next event after `a`\n",
    "- __Causality `->`__\n",
    "  - `a->b`: `a>b` __and not__ `b>a`\n",
    "- __Parallel `||`__\n",
    "  - `a||b`: `a>b` __and__ `b>a`\n",
    "- __Choice `#`__\n",
    "  - `a#b`: __not__ `a>b` __and not__ `b>a`"
   ]
  },
  {
   "cell_type": "markdown",
   "id": "6b35244e-9906-4ed0-82e0-8627afd3767d",
   "metadata": {},
   "source": [
    "From $L_1 = [<a,b,c,d>^3,\\ <a,c,b,d>^2,\\ <a,e,d>]$ we know:\n",
    "\n",
    "\n",
    "__Direct succession `>`__\n",
    "- `abcd`\n",
    "  - `a>b`\n",
    "  - `b>c`\n",
    "  - `c>d`\n",
    "- `acbd`\n",
    "  - `a>c`\n",
    "  - `b>d`\n",
    "  - `c>b`\n",
    "- `aed`\n",
    "  - `a>e`\n",
    "  - `e>d`\n",
    "\n",
    "\n",
    "__Causality `->`__\n",
    "- `a->b`\n",
    "- `a->c`\n",
    "- `a->e`\n",
    "- `b->d`\n",
    "- `c->d`\n",
    "- `e->d`\n",
    "\n",
    "\n",
    "__Parallel `||`__\n",
    "- `b||c` (and `c||b`)\n",
    "\n",
    "__Choice `#`__\n",
    "- `b#e` (and `e#b`)\n",
    "- `c#e` (and `e#c`)\n",
    "- `a#d` (and `d#a`)"
   ]
  },
  {
   "cell_type": "markdown",
   "id": "e3e80acd-5b95-4ad4-8418-1084968f8a9e",
   "metadata": {},
   "source": [
    "> Direct succession `>`\n",
    "> - is not used directly in the Algorithm\n",
    "> - is used to define the other 3 relations"
   ]
  },
  {
   "cell_type": "markdown",
   "id": "3d23e4ca-4108-453f-bff7-9162a0d7fb92",
   "metadata": {},
   "source": [
    "Given Causality, Parallel, and Choice, we can learn _patterns_ in the process"
   ]
  },
  {
   "cell_type": "markdown",
   "id": "f996c243-a127-4d65-87dd-2569694b5761",
   "metadata": {},
   "source": [
    "1. `a -> b` relations allow us to learn the\n",
    "   - __sequence pattern__"
   ]
  },
  {
   "cell_type": "code",
   "execution_count": null,
   "id": "91c4749f-f646-46a5-975e-877e2087b692",
   "metadata": {},
   "outputs": [],
   "source": [
    "display(Image(pm_slides+'sequencePattern.png',width=700))"
   ]
  },
  {
   "cell_type": "markdown",
   "id": "10d8d287-e630-4daf-8151-840f56c09ec5",
   "metadata": {},
   "source": [
    "2. The combination of `->` and `#` relations allow us to learn the\n",
    "   - __XOR-split__ and\n",
    "   - __XOR-join__ patterns"
   ]
  },
  {
   "cell_type": "code",
   "execution_count": null,
   "id": "90a67b01-d604-4573-b9c8-a26010057556",
   "metadata": {},
   "outputs": [],
   "source": [
    "#display(Image(pm_slides+'xorsplit.png',width=700))"
   ]
  },
  {
   "cell_type": "code",
   "execution_count": null,
   "id": "19810d46-5aa6-4a88-a70b-706032adea9a",
   "metadata": {
    "scrolled": true
   },
   "outputs": [],
   "source": [
    "display(Image(pm_slides+'xorsplit2.png',width=700))"
   ]
  },
  {
   "cell_type": "markdown",
   "id": "c4d37432-c457-4003-80c4-9dc48851c83f",
   "metadata": {},
   "source": [
    "3. The combination of `->` and `||` relations allow us to learn the\n",
    "   - __AND-split__ and\n",
    "   - __AND-join__ patterns"
   ]
  },
  {
   "cell_type": "code",
   "execution_count": null,
   "id": "61d21361-11f9-4739-97cf-50fd8751af6d",
   "metadata": {},
   "outputs": [],
   "source": [
    "#display(Image(pm_slides+'andSplit.png',width=700))"
   ]
  },
  {
   "cell_type": "code",
   "execution_count": null,
   "id": "58bba8ce-027b-41f3-8e0a-97bc84317395",
   "metadata": {},
   "outputs": [],
   "source": [
    "display(Image(pm_slides+'andSplit2.png',width=700))"
   ]
  },
  {
   "cell_type": "code",
   "execution_count": null,
   "id": "910ac47b-66f5-4db2-99ff-93f1bc8e1c6a",
   "metadata": {},
   "outputs": [],
   "source": []
  },
  {
   "cell_type": "markdown",
   "id": "fe709b7f-ced6-478e-b011-26a6ef4685bf",
   "metadata": {},
   "source": [
    "Intuitively, the algorithm:\n",
    "- first builds all such relations for each pair of activities\n",
    "  - These are collected in the __footprint__ of the log \n",
    "- then, based on such relations, it learns these 3 patterns"
   ]
  },
  {
   "cell_type": "code",
   "execution_count": null,
   "id": "abaf5c29-102b-499e-8f93-9474e0dd9940",
   "metadata": {},
   "outputs": [],
   "source": [
    "display(Image(pm_slides+'footprint.png',width=700))"
   ]
  },
  {
   "cell_type": "markdown",
   "id": "975bca7a-374d-4d8f-ae77-afc6e0b9c17e",
   "metadata": {},
   "source": [
    "The __alpha miner guarantees__ that:\n",
    "- the footprint of the source log\n",
    "- the footprint of all logs generable by a model\n",
    "<br/>\n",
    "__have the same footprint__\n",
    "\n",
    "That is, the alpha miner is perfect in finding and modeling these _local dependencies_"
   ]
  },
  {
   "cell_type": "code",
   "execution_count": null,
   "id": "b2202324-e63d-49b9-adfb-6d3f0ce10bd5",
   "metadata": {},
   "outputs": [],
   "source": [
    "display(Image(pm_slides+'sameFootprint.png',width=700))"
   ]
  },
  {
   "cell_type": "code",
   "execution_count": null,
   "id": "16fee7a4-7770-4816-ba5e-e32561cfdf5d",
   "metadata": {},
   "outputs": [],
   "source": [
    "display(Image(pm_slides+'sameFootprint2.png',width=700))"
   ]
  },
  {
   "cell_type": "markdown",
   "id": "9e3acdd9-d440-42f3-96f4-0d069d4d8a78",
   "metadata": {},
   "source": [
    "## Alpha miner: the algorithm"
   ]
  },
  {
   "cell_type": "code",
   "execution_count": null,
   "id": "4dea9ae7-3ddf-4ad8-bce6-a0559e5a1982",
   "metadata": {},
   "outputs": [],
   "source": [
    "display(Image(pm_slides+'patterns.png',width=800))"
   ]
  },
  {
   "cell_type": "code",
   "execution_count": null,
   "id": "06e323ac-b71f-4fd0-8bbd-1c60ffe34c6f",
   "metadata": {},
   "outputs": [],
   "source": [
    "display(Image(pm_slides+'algorithm.png',width=700))"
   ]
  },
  {
   "cell_type": "code",
   "execution_count": null,
   "id": "9ef2bc8c-a335-47bc-b5ba-e5fc6821dc75",
   "metadata": {},
   "outputs": [],
   "source": [
    "display(Image(pm_slides+'whaat-huh.gif',width=400))"
   ]
  },
  {
   "cell_type": "markdown",
   "id": "2cb04630-ce05-40bb-a6f2-10d6fc7368a8",
   "metadata": {},
   "source": [
    "It is actually _simple_. Despite being simple, it can find complex notions like:\n",
    "- concurrency\n",
    "- choice\n",
    "- loops"
   ]
  },
  {
   "cell_type": "markdown",
   "id": "09ebc005-afed-4b98-b3ae-0bb6206102fc",
   "metadata": {},
   "source": [
    "---\n",
    "\n",
    "Algorithm: input event log $T$, output Petri net $\\alpha(L)$.\n",
    "\n",
    "First we __discover the transitions__ in the PN (the rectangles corresponding to the activities):\n",
    "1. Scan event log to extract the activities $T_L$ in the log $L$\n",
    "   - These will be the transitions in the PN\n",
    "2. Scan event log extract the activities $T_I$ appearing at least once is first\n",
    "   - These will be the initial transitions in the PN\n",
    "3. Scan event log extract the activities $T_O$ appearing at least once is last\n",
    "   - These will be the final/end transitions in the PN"
   ]
  },
  {
   "cell_type": "markdown",
   "id": "68fcbf00-513d-450a-accc-e4bae185b5cf",
   "metadata": {},
   "source": [
    "Now we __disover the places__. In particular:\n",
    " - We discover pairs $p=(A,B)$ where:\n",
    " - a pair $p$ corresponds to a place in the PN\n",
    " - The set of transitions/activities $A$ are the __input__ transitions of $p$\n",
    " - The set of transitions/activities $B$ are the __output__ transitions of $p$\n",
    "\n",
    "\n",
    "\n"
   ]
  },
  {
   "cell_type": "markdown",
   "id": "52dca91e-d87a-4c57-b115-4c4e106ae3ea",
   "metadata": {},
   "source": [
    "4. Calculate all pairs $(A,B)$ such that\n",
    "   - For any two activties  $a_i,a_j \\in A$, &nbsp;$a_1\\#_L a_2$     &nbsp;&nbsp;&nbsp;&nbsp;&nbsp;&nbsp;&nbsp;&nbsp;&nbsp;&nbsp;&nbsp;&nbsp;&nbsp;&nbsp; (they shall never follow one another)\n",
    "   - For any two activties $b_i,b_j \\in B$, &nbsp;$b_1\\#_L b_2$     &nbsp;&nbsp;&nbsp;&nbsp;&nbsp;&nbsp;&nbsp;&nbsp;&nbsp;&nbsp;&nbsp;&nbsp;&nbsp;&nbsp;&nbsp;&nbsp; (they shall never follow one another)\n",
    "   - For any two activties $a \\in A$ and $b\\in B$, &nbsp; $a\\rightarrow_L b$ &nbsp;&nbsp; ($b$ must directly follow $a$).\n",
    "5. Keep only the pairs $(A,B)$ that are _maximal\n",
    "   - If $A' \\subset A$ and $B' \\subset B$, then $(A',B')$ satisfies the conditions of point 4 as well\n",
    "   - But we want to focus only on the maximal ones: less places, more interpretable model\n",
    "6. Make the final list of places:\n",
    "   - Each pair $(A,B)$ becomes a place $P_{(A,B)}$ from points 4,5 becomes a place\n",
    "   - Add an initial place $i_L$ and terminal place $o_L$\n",
    "7. Connect transitions from points 1-3 with places from points 4,5\n",
    "   - Given a place $p_{(A,B)}$, connect it with all activities in $A$ and $B$\n",
    "     - connect each activity $a\\in A$ towards $p_{(A,B)}$\n",
    "     - connect $p_{(A,B)}$ towards each activity $b\\in B$\n",
    "   - Connect the initial place $i_L$ towards all initial transitions $T_I$\n",
    "   - Connect all final transitions $T_O$ towards the final place $o_L$\n",
    "8. Just return the computed PN and its initial and final places\n",
    "\n",
    "\n",
    "---"
   ]
  },
  {
   "cell_type": "code",
   "execution_count": null,
   "id": "01f0b1c0-94e4-4ae0-a269-9ba0d6699324",
   "metadata": {
    "scrolled": true
   },
   "outputs": [],
   "source": [
    "display(Image(pm_slides+'alphaExecution.png',width=700))"
   ]
  },
  {
   "cell_type": "markdown",
   "id": "5e249934-4dc1-4d76-9f74-6447b3697893",
   "metadata": {},
   "source": [
    "### Let's mine L1 with pm4py"
   ]
  },
  {
   "cell_type": "code",
   "execution_count": null,
   "id": "1ac4bae9-d830-455e-a020-bbb6c1886b85",
   "metadata": {},
   "outputs": [],
   "source": [
    "#use pm4py to mine L_1\n",
    "import pandas as pd\n",
    "import pm4py\n",
    "event_log=pd.read_csv(\"L1.csv\",sep=\";\")\n",
    "event_log['timestamp']=pd.to_datetime(event_log['timestamp'])\n",
    "event_log.info()"
   ]
  },
  {
   "cell_type": "code",
   "execution_count": null,
   "id": "9848d79f-28e2-4ec6-9f0d-038bd289a7dd",
   "metadata": {},
   "outputs": [],
   "source": [
    "event_log = pm4py.format_dataframe(event_log, case_id='case_id', activity_key='activity', timestamp_key='timestamp')\n",
    "start_activities = pm4py.get_start_activities(event_log)\n",
    "end_activities = pm4py.get_end_activities(event_log)\n",
    "print(\"Start activities: {}\\nEnd activities: {}\\n\".format(start_activities, end_activities))\n",
    "\n",
    "print('The case_id 2 in the formatted dataframe')\n",
    "event_log[event_log.case_id==2]"
   ]
  },
  {
   "cell_type": "markdown",
   "id": "fb582a7e-12ad-4377-b006-ccedd990743c",
   "metadata": {},
   "source": [
    "First we compute the footprints of the log"
   ]
  },
  {
   "cell_type": "code",
   "execution_count": null,
   "id": "8227b9eb-3b3e-4410-82ab-0d9375c7bccc",
   "metadata": {},
   "outputs": [],
   "source": [
    "footprints=pm4py.discovery.discover_footprints(event_log)\n",
    "footprints.keys()"
   ]
  },
  {
   "cell_type": "code",
   "execution_count": null,
   "id": "bbee2053-5bfc-4aff-85f9-44353f4d0490",
   "metadata": {},
   "outputs": [],
   "source": [
    "for key in footprints.keys():\n",
    "    print(key+\":\")\n",
    "    print(footprints[key])\n",
    "    print()"
   ]
  },
  {
   "cell_type": "markdown",
   "id": "5c6d87ff-a705-4fef-b3f9-928e7e30acee",
   "metadata": {},
   "source": [
    "Choice is not provided:\n",
    "- Looking at the footprints talbes, in each entry we have either sequence, or parallel or choice\n",
    "- Therefore, choice can be inferred"
   ]
  },
  {
   "cell_type": "markdown",
   "id": "7f367c87-d785-4f40-80ac-aa2a3c36cc55",
   "metadata": {},
   "source": [
    "Now we actually mine the model"
   ]
  },
  {
   "cell_type": "code",
   "execution_count": null,
   "id": "500f178a-4fa9-4eea-89de-4ff76ab7f11e",
   "metadata": {
    "scrolled": true
   },
   "outputs": [],
   "source": [
    "#pn, im, fm = pm4py.discover_petri_net_inductive(event_log)\n",
    "pn, im, fm = pm4py.discover_petri_net_alpha(event_log)\n",
    "places_list=list(pn.places)\n",
    "\n",
    "\n",
    "pm4py.view_petri_net(pn, im, fm)"
   ]
  },
  {
   "cell_type": "markdown",
   "id": "b60537f8-4bc8-4305-9c1b-eeb7e7083d9c",
   "metadata": {},
   "source": [
    "### Let's mine L3 by hand, and with pm4py"
   ]
  },
  {
   "cell_type": "markdown",
   "id": "a1811f90-836d-41c5-878e-b3ecb6192aea",
   "metadata": {},
   "source": [
    "- What are the footprints of L3?\n",
    "- Perform all 8 steps\n",
    "  - What are the Transitions (steps 1-3)?\n",
    "  - What are the pairs from steps 4-5? "
   ]
  },
  {
   "cell_type": "code",
   "execution_count": null,
   "id": "dd516a89-c0ba-48df-98bf-83e66446975f",
   "metadata": {},
   "outputs": [],
   "source": []
  },
  {
   "cell_type": "code",
   "execution_count": null,
   "id": "c8d4303d-f510-4e3f-a9ae-ed56aef3f7c7",
   "metadata": {},
   "outputs": [],
   "source": []
  },
  {
   "cell_type": "code",
   "execution_count": null,
   "id": "3024cdc2-2cd0-48b7-983c-e9ddf256cfee",
   "metadata": {},
   "outputs": [],
   "source": []
  },
  {
   "cell_type": "code",
   "execution_count": null,
   "id": "7324080a-97d5-4055-88b2-78ba8955d034",
   "metadata": {},
   "outputs": [],
   "source": []
  },
  {
   "cell_type": "code",
   "execution_count": null,
   "id": "d88285d3-43af-4431-aa9c-4c14bcb38bad",
   "metadata": {},
   "outputs": [],
   "source": []
  },
  {
   "cell_type": "code",
   "execution_count": null,
   "id": "5a09384f-3ce0-411d-a852-9795d18cbf9d",
   "metadata": {},
   "outputs": [],
   "source": []
  },
  {
   "cell_type": "code",
   "execution_count": null,
   "id": "c1a2e7da-6453-4345-b27f-dfd51e811e33",
   "metadata": {},
   "outputs": [],
   "source": []
  },
  {
   "cell_type": "code",
   "execution_count": null,
   "id": "04459239-ba73-4555-8094-4c8b3585f997",
   "metadata": {},
   "outputs": [],
   "source": []
  },
  {
   "cell_type": "raw",
   "id": "3ca0687f-d590-41e9-a3c6-4690304ea7ca",
   "metadata": {},
   "source": [
    "event_log=pd.read_csv(\"L3.csv\",sep=\";\")\n",
    "event_log['timestamp']=pd.to_datetime(event_log['timestamp'])\n",
    "event_log = pm4py.format_dataframe(event_log, case_id='case_id', activity_key='activity', timestamp_key='timestamp')\n",
    "start_activities = pm4py.get_start_activities(event_log)\n",
    "end_activities = pm4py.get_end_activities(event_log)\n",
    "print(\"Start activities: {}\\nEnd activities: {}\\n\".format(start_activities, end_activities))\n",
    "\n",
    "print('The case_id 2 in the formatted dataframe')\n",
    "event_log[event_log.case_id==2]"
   ]
  },
  {
   "cell_type": "raw",
   "id": "03831f82-85f8-4f1a-a0f9-bb342abdb56f",
   "metadata": {},
   "source": [
    "footprints=pm4py.discovery.discover_footprints(event_log)\n",
    "for key in footprints.keys():\n",
    "    print(key+\":\")\n",
    "    print(footprints[key])\n",
    "    print()"
   ]
  },
  {
   "cell_type": "raw",
   "id": "cb013872-d3ca-419b-a4e2-bac7d881ff75",
   "metadata": {},
   "source": [
    "pn, im, fm = pm4py.discover_petri_net_alpha(event_log)\n",
    "places_list=list(pn.places)\n",
    "\n",
    "\n",
    "pm4py.view_petri_net(pn, im, fm)"
   ]
  },
  {
   "cell_type": "markdown",
   "id": "b634ff75-63b1-4247-a020-8cf256c94fce",
   "metadata": {},
   "source": [
    "## Alpha miner: limitations"
   ]
  },
  {
   "cell_type": "code",
   "execution_count": null,
   "id": "86805f7e-9d4c-4022-9ac9-55ab02f5bd45",
   "metadata": {},
   "outputs": [],
   "source": []
  }
 ],
 "metadata": {
  "kernelspec": {
   "display_name": "env_research",
   "language": "python",
   "name": "env_research"
  },
  "language_info": {
   "codemirror_mode": {
    "name": "ipython",
    "version": 3
   },
   "file_extension": ".py",
   "mimetype": "text/x-python",
   "name": "python",
   "nbconvert_exporter": "python",
   "pygments_lexer": "ipython3",
   "version": "3.9.10"
  }
 },
 "nbformat": 4,
 "nbformat_minor": 5
}
