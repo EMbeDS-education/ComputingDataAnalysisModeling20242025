{
 "cells": [
  {
   "cell_type": "markdown",
   "id": "5311b31a-f349-41f5-86b8-68139569862a",
   "metadata": {},
   "source": [
    "<center><font size=\"+4\">Programming & Data Analytics & AI 2 PM 2024/2025</font></center>\n",
    "<center><font size=\"+2\">Sant'Anna School of Advanced Studies, Pisa, Italy</font></center>\n",
    "<center><img src=\"https://github.com/EMbeDS-education/ComputingDataAnalysisModeling20242025/raw/main/PDAI/jupyter/jupyterNotebooks/images/sssaLEMBEDSdtu.png\" width=\"900\" alt=\"L'EMbeDS\"></center>\n",
    "\n",
    "<center><font size=\"+2\">Course responsible</font></center>\n",
    "<center><font size=\"+2\">Andrea Vandin a.vandin@santannapisa.it</font></center>\n",
    "\n",
    "---"
   ]
  },
  {
   "cell_type": "markdown",
   "id": "5530b57d-4cb2-4839-8e76-d89c4bb379c9",
   "metadata": {},
   "source": [
    "<center><font size=\"+2\">Notebook for Class 5 </font></center>\n",
    "<center><font size=\"+2\">Petri nets and Alpha miner. Data Lab\n",
    "</font></center>\n",
    "\n",
    "---\n",
    "---"
   ]
  },
  {
   "cell_type": "code",
   "execution_count": 1,
   "id": "97134d2b-faba-4f75-9b15-711619ff0594",
   "metadata": {},
   "outputs": [],
   "source": [
    "url_github_repo=\"https://github.com/EMbeDS-education/ComputingDataAnalysisModeling20242025/raw/main/PDAI/\""
   ]
  },
  {
   "cell_type": "markdown",
   "id": "51969c0a-b894-445f-8548-ef49f4c9728a",
   "metadata": {},
   "source": [
    "How good are you with pm4py?\n",
    "- Let's test it! :D"
   ]
  },
  {
   "cell_type": "code",
   "execution_count": 3,
   "id": "70478588-da1b-4ebb-8894-0519eb01749a",
   "metadata": {},
   "outputs": [
    {
     "data": {
      "text/html": [
       "\n",
       "        <iframe\n",
       "            width=\"500\"\n",
       "            height=\"400\"\n",
       "            src=\"https://kahoot.it/\"\n",
       "            frameborder=\"0\"\n",
       "            allowfullscreen\n",
       "            \n",
       "        ></iframe>\n",
       "        "
      ],
      "text/plain": [
       "<IPython.lib.display.IFrame at 0x7fc1685cecd0>"
      ]
     },
     "execution_count": 3,
     "metadata": {},
     "output_type": "execute_result"
    }
   ],
   "source": [
    "from IPython.display import IFrame\n",
    "IFrame(\"https://kahoot.it/\", 500, 400)"
   ]
  },
  {
   "cell_type": "code",
   "execution_count": null,
   "id": "a793e60a-1475-4e02-ac72-1dbe97d23d5a",
   "metadata": {},
   "outputs": [],
   "source": []
  }
 ],
 "metadata": {
  "kernelspec": {
   "display_name": "env_research",
   "language": "python",
   "name": "env_research"
  },
  "language_info": {
   "codemirror_mode": {
    "name": "ipython",
    "version": 3
   },
   "file_extension": ".py",
   "mimetype": "text/x-python",
   "name": "python",
   "nbconvert_exporter": "python",
   "pygments_lexer": "ipython3",
   "version": "3.9.10"
  }
 },
 "nbformat": 4,
 "nbformat_minor": 5
}
