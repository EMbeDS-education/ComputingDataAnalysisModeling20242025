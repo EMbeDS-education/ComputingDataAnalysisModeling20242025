{
 "cells": [
  {
   "cell_type": "markdown",
   "id": "5311b31a-f349-41f5-86b8-68139569862a",
   "metadata": {},
   "source": [
    "<center><font size=\"+4\">Programming & Data Analytics & AI 2 PM 2024/2025</font></center>\n",
    "<center><font size=\"+2\">Sant'Anna School of Advanced Studies, Pisa, Italy</font></center>\n",
    "<center><img src=\"https://github.com/EMbeDS-education/ComputingDataAnalysisModeling20242025/raw/main/PDAI/jupyter/jupyterNotebooks/images/sssaLEMBEDSdtu.png\" width=\"900\" alt=\"L'EMbeDS\"></center>\n",
    "\n",
    "<center><font size=\"+2\">Course responsible</font></center>\n",
    "<center><font size=\"+2\">Andrea Vandin a.vandin@santannapisa.it</font></center>\n",
    "\n",
    "---"
   ]
  },
  {
   "cell_type": "markdown",
   "id": "5530b57d-4cb2-4839-8e76-d89c4bb379c9",
   "metadata": {},
   "source": [
    "<center><font size=\"+2\">Notebook for Class 6 </font></center>\n",
    "<center><font size=\"+2\">Petri nets and Alpha miner. Data Lab\n",
    "</font></center>\n",
    "\n",
    "---\n",
    "---"
   ]
  },
  {
   "cell_type": "code",
   "execution_count": 2,
   "id": "97134d2b-faba-4f75-9b15-711619ff0594",
   "metadata": {},
   "outputs": [],
   "source": [
    "url_github_repo=\"https://github.com/EMbeDS-education/ComputingDataAnalysisModeling20242025/raw/main/PDAI/\""
   ]
  },
  {
   "cell_type": "markdown",
   "id": "51969c0a-b894-445f-8548-ef49f4c9728a",
   "metadata": {},
   "source": [
    "How good are you with pm4py?\n",
    "- Let's test it! :D"
   ]
  },
  {
   "cell_type": "code",
   "execution_count": 3,
   "id": "70478588-da1b-4ebb-8894-0519eb01749a",
   "metadata": {},
   "outputs": [
    {
     "data": {
      "text/html": [
       "\n",
       "        <iframe\n",
       "            width=\"500\"\n",
       "            height=\"400\"\n",
       "            src=\"https://kahoot.it/\"\n",
       "            frameborder=\"0\"\n",
       "            allowfullscreen\n",
       "            \n",
       "        ></iframe>\n",
       "        "
      ],
      "text/plain": [
       "<IPython.lib.display.IFrame at 0x7fc1685cecd0>"
      ]
     },
     "execution_count": 3,
     "metadata": {},
     "output_type": "execute_result"
    }
   ],
   "source": [
    "from IPython.display import IFrame\n",
    "IFrame(\"https://kahoot.it/\", 500, 400)"
   ]
  },
  {
   "cell_type": "markdown",
   "id": "f112d999-0af6-4540-bb7f-f76f87d262dd",
   "metadata": {},
   "source": [
    "For an informed discussion on this topic, I recommend you watching classes from 2.2 to 2.7 of the [Coursera course on PM](https://www.coursera.org/learn/process-mining/home/welcome)\n",
    "- https://www.coursera.org/learn/process-mining/lecture/XGSCe/2-2-petri-nets-1-2\n",
    "\n"
   ]
  },
  {
   "cell_type": "markdown",
   "id": "9fc325bb-f052-4868-a8e5-984be394287b",
   "metadata": {},
   "source": [
    "- (2.2, 2.3) Examples on Petri nets \n",
    "- (2.4)\n",
    "  - Boundedness and safeness \n",
    "  - Deadlocks in Petri net\n",
    "  - Liveness\n",
    "  - Transition system, Traces, Complete traces\n",
    "- (2.5)\n",
    "  - Workflow nets (1 start state, 1 final state)\n",
    "  -  Soundness\n",
    "    - Safe: places cannot hold multiple tokens at the same time\n",
    "    - Proper completion: if the sink place is marked, all other places are empty\n",
    "      - Implied by Option to complete\n",
    "    - Option to complete: it is always possible to reach the marking that marks just the sink place\n",
    "    - Deadlock-free\n",
    "  - A WF-net is sound iff the corresponding short-circuited PN is live and bounded\n",
    "- (2.6): We learn WF-nets with Alpha miner"
   ]
  },
  {
   "cell_type": "markdown",
   "id": "ee2044e4-1b42-43fa-a2dd-abb9874c63e7",
   "metadata": {},
   "source": [
    "> Below we provide screenshots from some slides used above"
   ]
  },
  {
   "cell_type": "code",
   "execution_count": 3,
   "id": "295c3058-1d0f-461a-8eb2-e80f456bd84d",
   "metadata": {},
   "outputs": [],
   "source": [
    "pm_slides=url_github_repo+'jupyter/jupyterNotebooks/images/PM/'"
   ]
  },
  {
   "cell_type": "markdown",
   "id": "3096780d-5b08-4c2f-8540-c6d362d919ee",
   "metadata": {},
   "source": [
    "## (2.6): We learn WF-nets with Alpha miner"
   ]
  },
  {
   "cell_type": "code",
   "execution_count": null,
   "id": "fef2e2e1-d86a-4f7e-8ee0-6d186c1ad05b",
   "metadata": {},
   "outputs": [],
   "source": [
    "img=Image(pm_slides+'lastKahootMeme.JPG',width=700)"
   ]
  }
 ],
 "metadata": {
  "kernelspec": {
   "display_name": "env_research",
   "language": "python",
   "name": "env_research"
  },
  "language_info": {
   "codemirror_mode": {
    "name": "ipython",
    "version": 3
   },
   "file_extension": ".py",
   "mimetype": "text/x-python",
   "name": "python",
   "nbconvert_exporter": "python",
   "pygments_lexer": "ipython3",
   "version": "3.9.10"
  }
 },
 "nbformat": 4,
 "nbformat_minor": 5
}
