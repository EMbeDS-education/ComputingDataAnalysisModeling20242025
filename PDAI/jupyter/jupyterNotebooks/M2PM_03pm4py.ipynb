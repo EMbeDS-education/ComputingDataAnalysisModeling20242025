{
 "cells": [
  {
   "cell_type": "code",
   "execution_count": null,
   "id": "9116eba1-cdce-4a64-b4b2-364a8f3ca205",
   "metadata": {},
   "outputs": [],
   "source": []
  },
  {
   "cell_type": "markdown",
   "id": "45c87494-e784-4b38-8cf3-c68c07f780b7",
   "metadata": {},
   "source": [
    "<center><font size=\"+4\">Programming & Data Analytics & AI 2 PM 2024/2025</font></center>\n",
    "<center><font size=\"+2\">Sant'Anna School of Advanced Studies, Pisa, Italy</font></center>\n",
    "<center><img src=\"https://github.com/EMbeDS-education/ComputingDataAnalysisModeling20242025/raw/main/PDAI/jupyter/jupyterNotebooks/images/sssaLEMBEDSdtu.png\" width=\"900\" alt=\"L'EMbeDS\"></center>\n",
    "\n",
    "<center><font size=\"+2\">Course responsible</font></center>\n",
    "<center><font size=\"+2\">Andrea Vandin a.vandin@santannapisa.it</font></center>\n",
    "\n",
    "---"
   ]
  },
  {
   "cell_type": "markdown",
   "id": "a912cea3-b17b-45eb-919b-ee838ea89b86",
   "metadata": {},
   "source": [
    "<center><font size=\"+2\">Notebook for Class 4 </font></center>\n",
    "<center><font size=\"+2\">The Python library for Process Mining: PM4Py\n",
    "</font></center>\n",
    "\n",
    "---\n",
    "---"
   ]
  },
  {
   "cell_type": "markdown",
   "id": "7f3c42ab-7606-439d-8cd9-e1caea004ec8",
   "metadata": {},
   "source": [
    "# Getting started"
   ]
  },
  {
   "cell_type": "markdown",
   "id": "b854de91-f1be-48b5-9763-6d982f50c8fa",
   "metadata": {},
   "source": [
    "pm4py is the python library for Process Mining\n",
    "- You can find getting started information, including a nice general overview on Process Mining here:\n",
    "  - https://processintelligence.solutions/static/api/2.7.11/getting_started.html\n",
    "- You can install it using the following instructions here\n",
    "  - https://processintelligence.solutions/static/api/2.7.11/install.html\n",
    "  - or just run the following command"
   ]
  },
  {
   "cell_type": "markdown",
   "id": "2ee3d522-e23d-43aa-b0e5-a3a763e70d77",
   "metadata": {},
   "source": [
    "We are going to do a pm4py tutorial based on\n",
    "- https://processintelligence.solutions/static/api/2.7.11/getting_started.html"
   ]
  },
  {
   "cell_type": "markdown",
   "id": "4695213f-9e05-43aa-a2f4-2b80f847f54c",
   "metadata": {},
   "source": [
    "## Install and load pm4py"
   ]
  },
  {
   "cell_type": "code",
   "execution_count": 4,
   "id": "4faee81b-9a42-4520-969d-101f472f9302",
   "metadata": {},
   "outputs": [],
   "source": [
    "#%pip install pm4py"
   ]
  },
  {
   "cell_type": "code",
   "execution_count": 1,
   "id": "441756c4-1d7c-4eab-9079-a9a4d4093e17",
   "metadata": {},
   "outputs": [
    {
     "data": {
      "text/plain": [
       "'2.7.13.1'"
      ]
     },
     "execution_count": 1,
     "metadata": {},
     "output_type": "execute_result"
    }
   ],
   "source": [
    "#check the installed version of pm4py\n",
    "from importlib.metadata import version\n",
    "version('pm4py')"
   ]
  },
  {
   "cell_type": "code",
   "execution_count": 2,
   "id": "0718bcc6-3481-4584-8d11-c64c428985ca",
   "metadata": {},
   "outputs": [],
   "source": [
    "#Now you can import pm4py\n",
    "import pm4py"
   ]
  },
  {
   "cell_type": "markdown",
   "id": "6c742d54-ff89-471c-836d-f72fa42d7c8b",
   "metadata": {},
   "source": [
    "## Download CSV files"
   ]
  },
  {
   "cell_type": "code",
   "execution_count": 6,
   "id": "5342b128-7840-4939-b5d0-ea515d84ce23",
   "metadata": {},
   "outputs": [
    {
     "data": {
      "text/plain": [
       "('burgers.csv', <http.client.HTTPMessage at 0x7fb21ab7beb0>)"
      ]
     },
     "execution_count": 6,
     "metadata": {},
     "output_type": "execute_result"
    }
   ],
   "source": [
    "#Here we create a 'string' variable pointing to our repository...\n",
    "url_github_repo=\"https://github.com/EMbeDS-education/ComputingDataAnalysisModeling20242025/raw/main/PDAI/\"\n",
    "url1 = 'https://raw.githubusercontent.com/EMbeDS-education/ComputingDataAnalysisModeling20242025/main/PDAI/jupyter/jupyterNotebooks/PurchasingExample.csv'\n",
    "url2 = 'https://raw.githubusercontent.com/EMbeDS-education/ComputingDataAnalysisModeling20242025/main/PDAI/jupyter/jupyterNotebooks/burgers.csv'\n",
    "url3 = 'https://raw.githubusercontent.com/EMbeDS-education/ComputingDataAnalysisModeling20242025/main/PDAI/jupyter/jupyterNotebooks/simplifiedCustomerComplaintHandling.csv'\n",
    "\n",
    "urls=[url1,url2,url3]\n",
    "\n",
    "import urllib.request\n",
    "from pathlib import Path\n",
    "\n",
    "for url in urls:\n",
    "    print('Downloading',url)\n",
    "    urllib.request.urlretrieve(url,Path(url).name)"
   ]
  },
  {
   "cell_type": "markdown",
   "id": "44be00eb-6c21-480d-a8f2-e7c823e8a91b",
   "metadata": {},
   "source": [
    "## A dummy process handling customer complaints"
   ]
  },
  {
   "cell_type": "code",
   "execution_count": null,
   "id": "443be79c-edf7-43b6-8dc5-fc8cec5b474c",
   "metadata": {},
   "outputs": [],
   "source": [
    "from IPython.display import Image, display\n",
    "img=Image(url_github_repo+'jupyter/jupyterNotebooks/images/bpmn_running_example.png',width=600)\n",
    "display(img)"
   ]
  },
  {
   "cell_type": "markdown",
   "id": "2454f294-df06-4a66-b6e9-59271b7dda18",
   "metadata": {},
   "source": [
    "We use a 'dummy' csv file containing only\n",
    "- 6 cases\n",
    "- 42 events\n",
    "- 8 activities"
   ]
  },
  {
   "cell_type": "code",
   "execution_count": 10,
   "id": "4f1c11ba-c8d7-40f1-81af-a64a1d214c5f",
   "metadata": {},
   "outputs": [
    {
     "name": "stdout",
     "output_type": "stream",
     "text": [
      "<class 'pandas.core.frame.DataFrame'>\n",
      "RangeIndex: 42 entries, 0 to 41\n",
      "Data columns (total 5 columns):\n",
      " #   Column     Non-Null Count  Dtype                               \n",
      "---  ------     --------------  -----                               \n",
      " 0   case_id    42 non-null     int64                               \n",
      " 1   activity   42 non-null     object                              \n",
      " 2   timestamp  42 non-null     datetime64[ns, pytz.FixedOffset(60)]\n",
      " 3   costs      42 non-null     int64                               \n",
      " 4   resource   42 non-null     object                              \n",
      "dtypes: datetime64[ns, pytz.FixedOffset(60)](1), int64(2), object(2)\n",
      "memory usage: 1.8+ KB\n"
     ]
    }
   ],
   "source": [
    "import pandas as pd\n",
    "event_log=pd.read_csv(\"simplifiedCustomerComplaintHandling.csv\",sep=\";\")\n",
    "event_log['timestamp']=pd.to_datetime(event_log['timestamp'])\n",
    "event_log.info()"
   ]
  },
  {
   "cell_type": "code",
   "execution_count": 12,
   "id": "14fd160d-0053-40ce-ac3a-ebc01ac29a4c",
   "metadata": {},
   "outputs": [
    {
     "data": {
      "text/html": [
       "<div>\n",
       "<style scoped>\n",
       "    .dataframe tbody tr th:only-of-type {\n",
       "        vertical-align: middle;\n",
       "    }\n",
       "\n",
       "    .dataframe tbody tr th {\n",
       "        vertical-align: top;\n",
       "    }\n",
       "\n",
       "    .dataframe thead th {\n",
       "        text-align: right;\n",
       "    }\n",
       "</style>\n",
       "<table border=\"1\" class=\"dataframe\">\n",
       "  <thead>\n",
       "    <tr style=\"text-align: right;\">\n",
       "      <th></th>\n",
       "      <th>case_id</th>\n",
       "      <th>activity</th>\n",
       "      <th>timestamp</th>\n",
       "      <th>costs</th>\n",
       "      <th>resource</th>\n",
       "    </tr>\n",
       "  </thead>\n",
       "  <tbody>\n",
       "    <tr>\n",
       "      <th>0</th>\n",
       "      <td>3</td>\n",
       "      <td>register request</td>\n",
       "      <td>2010-12-30 14:32:00+01:00</td>\n",
       "      <td>50</td>\n",
       "      <td>Pete</td>\n",
       "    </tr>\n",
       "    <tr>\n",
       "      <th>1</th>\n",
       "      <td>3</td>\n",
       "      <td>examine casually</td>\n",
       "      <td>2010-12-30 15:06:00+01:00</td>\n",
       "      <td>400</td>\n",
       "      <td>Mike</td>\n",
       "    </tr>\n",
       "    <tr>\n",
       "      <th>2</th>\n",
       "      <td>3</td>\n",
       "      <td>check ticket</td>\n",
       "      <td>2010-12-30 16:34:00+01:00</td>\n",
       "      <td>100</td>\n",
       "      <td>Ellen</td>\n",
       "    </tr>\n",
       "    <tr>\n",
       "      <th>3</th>\n",
       "      <td>3</td>\n",
       "      <td>decide</td>\n",
       "      <td>2011-01-06 09:18:00+01:00</td>\n",
       "      <td>200</td>\n",
       "      <td>Sara</td>\n",
       "    </tr>\n",
       "    <tr>\n",
       "      <th>4</th>\n",
       "      <td>3</td>\n",
       "      <td>reinitiate request</td>\n",
       "      <td>2011-01-06 12:18:00+01:00</td>\n",
       "      <td>200</td>\n",
       "      <td>Sara</td>\n",
       "    </tr>\n",
       "  </tbody>\n",
       "</table>\n",
       "</div>"
      ],
      "text/plain": [
       "   case_id            activity                 timestamp  costs resource\n",
       "0        3    register request 2010-12-30 14:32:00+01:00     50     Pete\n",
       "1        3    examine casually 2010-12-30 15:06:00+01:00    400     Mike\n",
       "2        3        check ticket 2010-12-30 16:34:00+01:00    100    Ellen\n",
       "3        3              decide 2011-01-06 09:18:00+01:00    200     Sara\n",
       "4        3  reinitiate request 2011-01-06 12:18:00+01:00    200     Sara"
      ]
     },
     "execution_count": 12,
     "metadata": {},
     "output_type": "execute_result"
    }
   ],
   "source": [
    "event_log.head()"
   ]
  },
  {
   "cell_type": "code",
   "execution_count": 8,
   "id": "6f20624c-ebe1-470b-8a2e-bc15a0e3c73a",
   "metadata": {},
   "outputs": [
    {
     "data": {
      "text/html": [
       "<div>\n",
       "<style scoped>\n",
       "    .dataframe tbody tr th:only-of-type {\n",
       "        vertical-align: middle;\n",
       "    }\n",
       "\n",
       "    .dataframe tbody tr th {\n",
       "        vertical-align: top;\n",
       "    }\n",
       "\n",
       "    .dataframe thead th {\n",
       "        text-align: right;\n",
       "    }\n",
       "</style>\n",
       "<table border=\"1\" class=\"dataframe\">\n",
       "  <thead>\n",
       "    <tr style=\"text-align: right;\">\n",
       "      <th></th>\n",
       "      <th>case_id</th>\n",
       "      <th>activity</th>\n",
       "      <th>timestamp</th>\n",
       "      <th>costs</th>\n",
       "      <th>resource</th>\n",
       "    </tr>\n",
       "  </thead>\n",
       "  <tbody>\n",
       "    <tr>\n",
       "      <th>9</th>\n",
       "      <td>2</td>\n",
       "      <td>register request</td>\n",
       "      <td>2010-12-30 11:32:00+01:00</td>\n",
       "      <td>50</td>\n",
       "      <td>Mike</td>\n",
       "    </tr>\n",
       "    <tr>\n",
       "      <th>10</th>\n",
       "      <td>2</td>\n",
       "      <td>check ticket</td>\n",
       "      <td>2010-12-30 12:12:00+01:00</td>\n",
       "      <td>100</td>\n",
       "      <td>Mike</td>\n",
       "    </tr>\n",
       "    <tr>\n",
       "      <th>11</th>\n",
       "      <td>2</td>\n",
       "      <td>examine casually</td>\n",
       "      <td>2010-12-30 14:16:00+01:00</td>\n",
       "      <td>400</td>\n",
       "      <td>Sean</td>\n",
       "    </tr>\n",
       "    <tr>\n",
       "      <th>12</th>\n",
       "      <td>2</td>\n",
       "      <td>decide</td>\n",
       "      <td>2011-01-05 11:22:00+01:00</td>\n",
       "      <td>200</td>\n",
       "      <td>Sara</td>\n",
       "    </tr>\n",
       "    <tr>\n",
       "      <th>13</th>\n",
       "      <td>2</td>\n",
       "      <td>pay compensation</td>\n",
       "      <td>2011-01-08 12:05:00+01:00</td>\n",
       "      <td>200</td>\n",
       "      <td>Ellen</td>\n",
       "    </tr>\n",
       "  </tbody>\n",
       "</table>\n",
       "</div>"
      ],
      "text/plain": [
       "    case_id          activity                  timestamp  costs resource\n",
       "9         2  register request  2010-12-30 11:32:00+01:00     50     Mike\n",
       "10        2      check ticket  2010-12-30 12:12:00+01:00    100     Mike\n",
       "11        2  examine casually  2010-12-30 14:16:00+01:00    400     Sean\n",
       "12        2            decide  2011-01-05 11:22:00+01:00    200     Sara\n",
       "13        2  pay compensation  2011-01-08 12:05:00+01:00    200    Ellen"
      ]
     },
     "execution_count": 8,
     "metadata": {},
     "output_type": "execute_result"
    }
   ],
   "source": [
    "event_log[log.case_id==2]"
   ]
  },
  {
   "cell_type": "code",
   "execution_count": 14,
   "id": "0198d2eb-f14d-434f-bc7f-f89ac4def05d",
   "metadata": {},
   "outputs": [
    {
     "data": {
      "text/plain": [
       "8"
      ]
     },
     "execution_count": 14,
     "metadata": {},
     "output_type": "execute_result"
    }
   ],
   "source": [
    "len(event_log.activity.unique())"
   ]
  },
  {
   "cell_type": "code",
   "execution_count": null,
   "id": "e1443f25-0324-4de1-b642-1dc33b58e2a2",
   "metadata": {},
   "outputs": [],
   "source": []
  },
  {
   "cell_type": "code",
   "execution_count": null,
   "id": "4d4a07ad-0c06-450c-a8b2-a6f9a4e108b9",
   "metadata": {},
   "outputs": [],
   "source": []
  },
  {
   "cell_type": "markdown",
   "id": "de54925f-c9bd-4db6-ac01-4371cb985ee8",
   "metadata": {},
   "source": [
    "# Some famous PM datasets"
   ]
  },
  {
   "cell_type": "markdown",
   "id": "06c11e64-a302-4c7c-854a-bacc8260c1fa",
   "metadata": {},
   "source": [
    "## A webpage collecting many PM datasets (some are provided below as well)\n",
    "- https://www.processmining.org/event-data.html\n",
    "\n",
    "Available data sets in XES or CSV:\n",
    "- Hospital Billing - Event Log\n",
    "- Sepsis Cases - Event Log\n",
    "- Road Traffic Fine Management Process\n",
    "- BPIC 2020 (BPI Challenge 2020)\n",
    "- Purchase order handling process (BPI Challenge 2019)\n",
    "- Payment process of Common Agricultural Policy (BPI Challenge 2018)\n",
    "- Loan application process of a Dutch financial institute (BPI Challenge 2017)\n",
    "- Municipality log 1 (BPI Challenge 2015)\n",
    "- Municipality log 2 (BPI Challenge 2015)\n",
    "- Municipality log 3 (BPI Challenge 2015)\n",
    "- Municipality log 4 (BPI Challenge 2015)\n",
    "- Municipality log 5 (BPI Challenge 2015)\n",
    "- Incident management log (BPI Challenge 2013)\n",
    "- Problem management log, open problems (BPI Challenge 2013)\n",
    "- Problem management log, closed problems (BPI Challenge 2013)\n",
    "- Event log of a loan application process (BPI Challenge 2012)\n",
    "- Anonymized event log of a Dutch Academic Hospital (BPI Challenge 2011)"
   ]
  },
  {
   "cell_type": "markdown",
   "id": "dcfd467d-2eac-4218-8113-b20811c6e398",
   "metadata": {},
   "source": [
    "## Some more details on the provided datasets"
   ]
  },
  {
   "cell_type": "markdown",
   "id": "69b80cb6-733c-4a2e-9f30-9e555a64b275",
   "metadata": {},
   "source": [
    "### Sepsis\n",
    "- https://data.4tu.nl/articles/dataset/Sepsis_Cases_-_Event_Log/12707639\n",
    "\n",
    "This real-life event log contains events of sepsis cases from a hospital. Sepsis is a life threatening condition typically caused by an infection. One case represents the pathway through the hospital. The events were recorded by the ERP (Enterprise Resource Planning) system of the hospital. There are about 1000 cases with in total 15,000 events that were recorded for 16 different activities. Moreover, 39 data attributes are recorded, e.g., the group responsible for the activity, the results of tests and information from checklists. Events and attribute values have been anonymized. The time stamps of events have been randomized, but the time between events within a trace has not been altered."
   ]
  },
  {
   "cell_type": "markdown",
   "id": "8c1e0049-7426-4211-8525-82797f382bdd",
   "metadata": {},
   "source": [
    "### Italian road traffic fines\n",
    "- https://data.4tu.nl/articles/dataset/Road_Traffic_Fine_Management_Process/12683249\n",
    "- https://link.springer.com/article/10.1007/s00607-015-0441-1\n",
    "\n",
    "Real-life event log of an information system managing road traffic fines.\n",
    "- The authors considered a real-life event log and a process model, both of which are provided by the local police of an Italian city. The log contains information about more than 140,000 road-traffic fines. Events relate to notifications, payments, and appeals."
   ]
  },
  {
   "cell_type": "markdown",
   "id": "5e370a7e-fb9c-4024-bd73-f84e70f2ad72",
   "metadata": {},
   "source": [
    "### Building permit applications \n",
    "- https://data.4tu.nl/collections/BPI_Challenge_2015/5065424\n",
    "\n",
    "This data is provided by five Dutch municipalities. The data contains all building permit applications over a period of approximately four years. There are many different activities present, denoted by both codes (attribute concept:name) and labels, both in Dutch (attribute taskNameNL) and in English (attribute taskNameEN). The cases in the log contain information on the main application as well as objection procedures in various stages. Furthermore, information is available about the resource that carried out the task and on the cost of the application (attribute SUMleges). The processes in the five municipalities should be identical, but may differ slightly. Especially when changes are made to procedures, rules or regulations the time at which these changes are pushed into the five municipalities may differ. Of course, __over the four year period, the underlying processes have changed__. The municipalities have a number of questions, namely: \n",
    "- What are the roles of the people involved in the various stages of the process and how do these roles differ across municipalities? \n",
    "- What are the possible points for improvement on the organizational structure for each of the municipalities? \n",
    "- The employees of two of the five municipalities have physically moved into the same location recently. Did this lead to a change in the processes and if so, what is different?"
   ]
  },
  {
   "cell_type": "markdown",
   "id": "8927d6c6-4306-4b3a-aa42-353c05ac55fe",
   "metadata": {},
   "source": [
    "### Logs of Volvo IT incident and problem management\n",
    "- https://data.4tu.nl/collections/BPI_Challenge_2013/5065448/1\n",
    "- Logs of Volvo IT incident and problem management\n",
    "\n",
    "Related:\n",
    "- https://data.4tu.nl/articles/dataset/BPI_Challenge_2013_incidents/12693914\n",
    "- Log of Volvo IT incident management system Parent item: BPI Challenge 2013 Logs of Volvo IT incident and problem management"
   ]
  },
  {
   "cell_type": "markdown",
   "id": "ddda57df-80a8-4dc6-88d9-ffca9c33f877",
   "metadata": {},
   "source": [
    "### Benchmarks from the _BPI challenges_\n",
    "- https://www.tf-pm.org/newsletter/newsletter-stream-2-05-2020/bpi-challenges-10-years-of-real-life-datasets\n",
    "- https://www.tf-pm.org/competitions-awards/bpi-challenge"
   ]
  },
  {
   "cell_type": "markdown",
   "id": "ac866190-d0d8-41e0-8ddb-9ec9b664559f",
   "metadata": {},
   "source": [
    "### BPI Challenge 2020\n",
    "- https://data.4tu.nl/collections/BPI_Challenge_2020/5065541/1\n",
    "- The dataset contains events pertaining to two years of travel expense claims. In 2017, events were collected for two departments, in 2018 for the entire university. The various permits and declaration documents (domestic and international declarations, pre-paid travel costs and requests for payment) all follow a similar process flow. After submission by the employee, the request is sent for approval to the travel administration. If approved, the request is then forwarded to the budget owner and after that to the supervisor. If the budget owner and supervisor are the same person, then only one of these steps is taken. In some cases, the director also needs to approve the request.The process finished with either the trip taking place or a payment being requested and payed. On a high level, we distinguish two types of trips, namely domestic and international. For domestic trips, no prior permission is needed, i.e. an employee can undertake these trips and ask for reimbursement of the costs afterwards. For international trips, permission is needed from the supervisor. This permission is obtained by filing a travel-permit and this travel permit should be approved before making any arrangements. To get the costs for a travel reimbursed, a claim is filed. This can be done as soon as costs are actually payed (for example for flights or conference registration fees), or within two months after the trip (for example hotel and food costs which are usually payed on the spot).\n"
   ]
  },
  {
   "cell_type": "markdown",
   "id": "3bf6d61c-8d9a-44a9-bab4-ba0ea79e6980",
   "metadata": {},
   "source": [
    "### A lot of benchmarks from a replicability package\n",
    "\n",
    "- https://zenodo.org/records/7578655\n",
    "- This is the replicability package from paper \"Modelling Data-Aware Stochastic Processes - Discovery and Conformance Checking\"\n",
    "- It contains a number of well-known datasets in the PM literature"
   ]
  }
 ],
 "metadata": {
  "kernelspec": {
   "display_name": "env_research",
   "language": "python",
   "name": "env_research"
  },
  "language_info": {
   "codemirror_mode": {
    "name": "ipython",
    "version": 3
   },
   "file_extension": ".py",
   "mimetype": "text/x-python",
   "name": "python",
   "nbconvert_exporter": "python",
   "pygments_lexer": "ipython3",
   "version": "3.9.10"
  }
 },
 "nbformat": 4,
 "nbformat_minor": 5
}
