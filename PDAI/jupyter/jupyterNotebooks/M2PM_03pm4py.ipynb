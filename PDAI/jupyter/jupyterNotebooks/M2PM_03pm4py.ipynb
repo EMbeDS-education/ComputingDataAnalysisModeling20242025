{
 "cells": [
  {
   "cell_type": "code",
   "execution_count": null,
   "id": "9116eba1-cdce-4a64-b4b2-364a8f3ca205",
   "metadata": {},
   "outputs": [],
   "source": []
  },
  {
   "cell_type": "markdown",
   "id": "45c87494-e784-4b38-8cf3-c68c07f780b7",
   "metadata": {},
   "source": [
    "<center><font size=\"+4\">Programming & Data Analytics & AI 2 PM 2024/2025</font></center>\n",
    "<center><font size=\"+2\">Sant'Anna School of Advanced Studies, Pisa, Italy</font></center>\n",
    "<center><img src=\"https://github.com/EMbeDS-education/ComputingDataAnalysisModeling20242025/raw/main/PDAI/jupyter/jupyterNotebooks/images/sssaLEMBEDSdtu.png\" width=\"900\" alt=\"L'EMbeDS\"></center>\n",
    "\n",
    "<center><font size=\"+2\">Course responsible</font></center>\n",
    "<center><font size=\"+2\">Andrea Vandin a.vandin@santannapisa.it</font></center>\n",
    "\n",
    "---"
   ]
  },
  {
   "cell_type": "markdown",
   "id": "a912cea3-b17b-45eb-919b-ee838ea89b86",
   "metadata": {},
   "source": [
    "<center><font size=\"+2\">Notebook for Class 4 </font></center>\n",
    "<center><font size=\"+2\">The Python library for Process Mining: PM4Py\n",
    "</font></center>\n",
    "\n",
    "---\n",
    "---"
   ]
  },
  {
   "cell_type": "markdown",
   "id": "7f3c42ab-7606-439d-8cd9-e1caea004ec8",
   "metadata": {},
   "source": [
    "# Getting started"
   ]
  },
  {
   "cell_type": "markdown",
   "id": "b854de91-f1be-48b5-9763-6d982f50c8fa",
   "metadata": {},
   "source": [
    "pm4py is the python library for Process Mining\n",
    "- You can find getting started information, including a nice general overview on Process Mining here:\n",
    "  - https://processintelligence.solutions/static/api/2.7.11/getting_started.html\n",
    "- You can install it using the following instructions here\n",
    "  - https://processintelligence.solutions/static/api/2.7.11/install.html\n",
    "  - or just run the following command"
   ]
  },
  {
   "cell_type": "markdown",
   "id": "4695213f-9e05-43aa-a2f4-2b80f847f54c",
   "metadata": {},
   "source": [
    "## Install and load pm4py"
   ]
  },
  {
   "cell_type": "code",
   "execution_count": 4,
   "id": "4faee81b-9a42-4520-969d-101f472f9302",
   "metadata": {},
   "outputs": [],
   "source": [
    "#%pip install pm4py"
   ]
  },
  {
   "cell_type": "code",
   "execution_count": 1,
   "id": "441756c4-1d7c-4eab-9079-a9a4d4093e17",
   "metadata": {},
   "outputs": [
    {
     "data": {
      "text/plain": [
       "'2.7.13.1'"
      ]
     },
     "execution_count": 1,
     "metadata": {},
     "output_type": "execute_result"
    }
   ],
   "source": [
    "#check the installed version of pm4py\n",
    "from importlib.metadata import version\n",
    "version('pm4py')"
   ]
  },
  {
   "cell_type": "code",
   "execution_count": 2,
   "id": "0718bcc6-3481-4584-8d11-c64c428985ca",
   "metadata": {},
   "outputs": [],
   "source": [
    "#Now you can import pm4py\n",
    "import pm4py"
   ]
  },
  {
   "cell_type": "markdown",
   "id": "6c742d54-ff89-471c-836d-f72fa42d7c8b",
   "metadata": {},
   "source": [
    "## Download CSV files"
   ]
  },
  {
   "cell_type": "code",
   "execution_count": 6,
   "id": "5342b128-7840-4939-b5d0-ea515d84ce23",
   "metadata": {},
   "outputs": [
    {
     "data": {
      "text/plain": [
       "('burgers.csv', <http.client.HTTPMessage at 0x7fb21ab7beb0>)"
      ]
     },
     "execution_count": 6,
     "metadata": {},
     "output_type": "execute_result"
    }
   ],
   "source": [
    "url = 'https://raw.githubusercontent.com/EMbeDS-education/ComputingDataAnalysisModeling20242025/main/PDAI/jupyter/jupyterNotebooks/PurchasingExample.csv'\n",
    "url2 = 'https://raw.githubusercontent.com/EMbeDS-education/ComputingDataAnalysisModeling20242025/main/PDAI/jupyter/jupyterNotebooks/burgers.csv'\n",
    "\n",
    "import urllib.request\n",
    "from pathlib import Path\n",
    "\n",
    "urllib.request.urlretrieve(url,Path(url).name)\n",
    "urllib.request.urlretrieve(url2,Path(url2).name)"
   ]
  },
  {
   "cell_type": "code",
   "execution_count": null,
   "id": "f7e213cb-66b7-4b1f-aa45-7309dacc4ca1",
   "metadata": {},
   "outputs": [],
   "source": []
  }
 ],
 "metadata": {
  "kernelspec": {
   "display_name": "env_research",
   "language": "python",
   "name": "env_research"
  },
  "language_info": {
   "codemirror_mode": {
    "name": "ipython",
    "version": 3
   },
   "file_extension": ".py",
   "mimetype": "text/x-python",
   "name": "python",
   "nbconvert_exporter": "python",
   "pygments_lexer": "ipython3",
   "version": "3.9.10"
  }
 },
 "nbformat": 4,
 "nbformat_minor": 5
}
