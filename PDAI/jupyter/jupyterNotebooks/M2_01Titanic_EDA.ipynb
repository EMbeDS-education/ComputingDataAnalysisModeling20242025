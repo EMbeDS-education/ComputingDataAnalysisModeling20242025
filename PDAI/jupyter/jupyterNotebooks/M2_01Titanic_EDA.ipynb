{
 "cells": [
  {
   "cell_type": "markdown",
   "metadata": {
    "tags": []
   },
   "source": [
    "<center><font size=\"+4\">Programming & Data Analytics & AI 2</font></center>\n",
    "<center><font size=\"+2\">2023/2024</font></center>\n",
    "<center><font size=\"+2\">Sant'Anna School of Advanced Studies, Pisa, Italy</font></center>\n",
    "<center><img src=\"https://github.com/EMbeDS-education/ComputingDataAnalysisModeling20232024/raw/main/PDAI/jupyter/jupyterNotebooks/images/SSSA_LEMbeDS.png\" width=\"700\" alt=\"L'EMbeDS\"></center>\n",
    "\n",
    "<center><font size=\"+2\">Course responsible</font></center>\n",
    "<center><font size=\"+2\">Andrea Vandin a.vandin@santannapisa.it</font></center>\n",
    "\n",
    "---"
   ]
  },
  {
   "cell_type": "markdown",
   "metadata": {},
   "source": [
    "<center><font size=\"+4\">Part 1</font></center>\n",
    "<center><font size=\"+4\">Exploratory Data Analysis on the Titanic dataset: examples of tasks to solve</font></center>\n",
    "\n",
    "---\n",
    "---"
   ]
  },
  {
   "cell_type": "markdown",
   "metadata": {
    "id": "ZRdhSptEyHFN",
    "tags": []
   },
   "source": [
    "# Titanic dataset\n",
    "The ship Titanic sank in 1912 with the loss of most of its passengers (and crew members - we refer to all as passegners)\n",
    "- Details can be obtained on 1309 passengers on board the ship Titanic. \n",
    "\n",
    "For each passenger, we have\n",
    "- __14 attributes__ \n",
    "- __1 target variable__ on the survival\n",
    "\n",
    "In this project, we aim at\n",
    "- analyzing this dataset in order to obtain\n",
    "- a classifier able to predict the survival probability of a hypotethical passenger.\n",
    "\n",
    "| Variable name   |     Variable label      |  Data type | Value labels |\n",
    "|-|-|-|-|\n",
    "|survived|  Died/Survived (Target) | Ordinal (Number)|  0=\"Died\", 1=\"Survived\" \n",
    "|pclass|\tClass\t| Ordinal (Number)|\t1 = 1st, 2= 2nd, 3 = 3rd||\n",
    "|Residence | Country of Residence\t| Nominal (Number)\t|  0=\"American\", 1=\"British\",2=\"Other\" |\n",
    "|name\t|\tName |String||\n",
    "|age\t|\tAge |Number||\t\n",
    "|sibsp|\tNumber of siblings/ spouses|\t Number ||\n",
    "|parch|Number of parents/ children on board|\t Number ||\t\n",
    "|Ticket|\tTicket number|\tString||\n",
    "|fare|\tPrice of ticket| Number\t||\n",
    "|Cabin|\tCabin number|\tString||\n",
    "|Embarked|Where passenger embarked|\tNominal (String)||\n",
    "|Boat|\tBoat identification (if rescued)|\tString||\n",
    "|Body|\tBody number (if died)|\tString||\n",
    "|Home.dest|\tHome town|\tString\t||\n",
    "|Gender|\tGender|\t Nominal (String)\t|\t\"Male\", \"Female\"|\n",
    "\n"
   ]
  },
  {
   "cell_type": "markdown",
   "metadata": {
    "id": "EQy_u8B6N95U"
   },
   "source": [
    "Embarked is port of embarkation and it is a categorical feature which has 3 unique values (C, Q or S):\n",
    "- C = Cherbourg\n",
    "- Q = Queenstown\n",
    "- S = Southampton"
   ]
  },
  {
   "cell_type": "markdown",
   "metadata": {},
   "source": [
    "An example of a 'bad analysis project'\n",
    "- [Newspaper article: More Britons than Americans died on Titanic 'because they queued'](https://www.independent.co.uk/news/world/australasia/more-britons-than-americans-died-on-titanic-because-they-queued-1452299.html)"
   ]
  },
  {
   "cell_type": "code",
   "execution_count": 7,
   "metadata": {},
   "outputs": [],
   "source": [
    "#%pip install --upgrade pip\n",
    "#%pip install seaborn"
   ]
  },
  {
   "cell_type": "code",
   "execution_count": 8,
   "metadata": {
    "id": "O6x349pBCvge"
   },
   "outputs": [],
   "source": [
    "# Import libraries\n",
    "import pandas as pd\n",
    "import numpy as np\n",
    "import matplotlib.pyplot as plt\n",
    "#Another library for plotting: more advanced features than matplotlib\n",
    "import seaborn as sns"
   ]
  },
  {
   "cell_type": "code",
   "execution_count": 9,
   "metadata": {},
   "outputs": [],
   "source": [
    "#csv_path='https://github.com/EMbeDS-education/StatsAndComputing20222023/raw/main/datasets/TITANIC.csv'\n",
    "csv_path='https://raw.githubusercontent.com/EMbeDS-education/ComputingDataAnalysisModeling20232024/main/datasets/TITANIC.csv'"
   ]
  },
  {
   "cell_type": "code",
   "execution_count": 10,
   "metadata": {
    "colab": {
     "base_uri": "https://localhost:8080/",
     "height": 371
    },
    "id": "Uu8ZSihryGS1",
    "outputId": "fe304a33-0494-418c-fe67-b1890c3986d4"
   },
   "outputs": [
    {
     "data": {
      "text/html": [
       "<div>\n",
       "<style scoped>\n",
       "    .dataframe tbody tr th:only-of-type {\n",
       "        vertical-align: middle;\n",
       "    }\n",
       "\n",
       "    .dataframe tbody tr th {\n",
       "        vertical-align: top;\n",
       "    }\n",
       "\n",
       "    .dataframe thead th {\n",
       "        text-align: right;\n",
       "    }\n",
       "</style>\n",
       "<table border=\"1\" class=\"dataframe\">\n",
       "  <thead>\n",
       "    <tr style=\"text-align: right;\">\n",
       "      <th></th>\n",
       "      <th>pclass</th>\n",
       "      <th>survived</th>\n",
       "      <th>Residence</th>\n",
       "      <th>name</th>\n",
       "      <th>age</th>\n",
       "      <th>sibsp</th>\n",
       "      <th>parch</th>\n",
       "      <th>ticket</th>\n",
       "      <th>fare</th>\n",
       "      <th>cabin</th>\n",
       "      <th>embarked</th>\n",
       "      <th>boat</th>\n",
       "      <th>body</th>\n",
       "      <th>home.dest</th>\n",
       "      <th>Gender</th>\n",
       "    </tr>\n",
       "  </thead>\n",
       "  <tbody>\n",
       "    <tr>\n",
       "      <th>0</th>\n",
       "      <td>3</td>\n",
       "      <td>0</td>\n",
       "      <td>0</td>\n",
       "      <td>Abbing, Mr. Anthony</td>\n",
       "      <td>42</td>\n",
       "      <td>0</td>\n",
       "      <td>0</td>\n",
       "      <td>C.A. 5547</td>\n",
       "      <td>7.55</td>\n",
       "      <td></td>\n",
       "      <td>S</td>\n",
       "      <td></td>\n",
       "      <td></td>\n",
       "      <td></td>\n",
       "      <td>Male</td>\n",
       "    </tr>\n",
       "    <tr>\n",
       "      <th>1</th>\n",
       "      <td>3</td>\n",
       "      <td>0</td>\n",
       "      <td>0</td>\n",
       "      <td>Abbott, Master. Eugene Joseph</td>\n",
       "      <td>13</td>\n",
       "      <td>0</td>\n",
       "      <td>2</td>\n",
       "      <td>C.A. 2673</td>\n",
       "      <td>20.25</td>\n",
       "      <td></td>\n",
       "      <td>S</td>\n",
       "      <td></td>\n",
       "      <td></td>\n",
       "      <td>East Providence, RI</td>\n",
       "      <td>Male</td>\n",
       "    </tr>\n",
       "    <tr>\n",
       "      <th>2</th>\n",
       "      <td>3</td>\n",
       "      <td>0</td>\n",
       "      <td>0</td>\n",
       "      <td>Abbott, Mr. Rossmore Edward</td>\n",
       "      <td>16</td>\n",
       "      <td>1</td>\n",
       "      <td>1</td>\n",
       "      <td>C.A. 2673</td>\n",
       "      <td>20.25</td>\n",
       "      <td></td>\n",
       "      <td>S</td>\n",
       "      <td></td>\n",
       "      <td>190</td>\n",
       "      <td>East Providence, RI</td>\n",
       "      <td>Male</td>\n",
       "    </tr>\n",
       "    <tr>\n",
       "      <th>3</th>\n",
       "      <td>3</td>\n",
       "      <td>1</td>\n",
       "      <td>0</td>\n",
       "      <td>Abbott, Mrs. Stanton (Rosa Hunt)</td>\n",
       "      <td>35</td>\n",
       "      <td>1</td>\n",
       "      <td>1</td>\n",
       "      <td>C.A. 2673</td>\n",
       "      <td>20.25</td>\n",
       "      <td></td>\n",
       "      <td>S</td>\n",
       "      <td>A</td>\n",
       "      <td></td>\n",
       "      <td>East Providence, RI</td>\n",
       "      <td>Female</td>\n",
       "    </tr>\n",
       "    <tr>\n",
       "      <th>4</th>\n",
       "      <td>3</td>\n",
       "      <td>1</td>\n",
       "      <td>2</td>\n",
       "      <td>Abelseth, Miss. Karen Marie</td>\n",
       "      <td>16</td>\n",
       "      <td>0</td>\n",
       "      <td>0</td>\n",
       "      <td>348125</td>\n",
       "      <td>7.65</td>\n",
       "      <td></td>\n",
       "      <td>S</td>\n",
       "      <td>16</td>\n",
       "      <td></td>\n",
       "      <td>Norway Los Angeles, CA</td>\n",
       "      <td>Female</td>\n",
       "    </tr>\n",
       "  </tbody>\n",
       "</table>\n",
       "</div>"
      ],
      "text/plain": [
       "   pclass  survived  Residence                              name age  sibsp  \\\n",
       "0       3         0          0               Abbing, Mr. Anthony  42      0   \n",
       "1       3         0          0     Abbott, Master. Eugene Joseph  13      0   \n",
       "2       3         0          0       Abbott, Mr. Rossmore Edward  16      1   \n",
       "3       3         1          0  Abbott, Mrs. Stanton (Rosa Hunt)  35      1   \n",
       "4       3         1          2       Abelseth, Miss. Karen Marie  16      0   \n",
       "\n",
       "   parch     ticket   fare cabin embarked boat body               home.dest  \\\n",
       "0      0  C.A. 5547   7.55              S                                     \n",
       "1      2  C.A. 2673  20.25              S               East Providence, RI   \n",
       "2      1  C.A. 2673  20.25              S       190     East Providence, RI   \n",
       "3      1  C.A. 2673  20.25              S    A          East Providence, RI   \n",
       "4      0     348125   7.65              S   16       Norway Los Angeles, CA   \n",
       "\n",
       "   Gender  \n",
       "0    Male  \n",
       "1    Male  \n",
       "2    Male  \n",
       "3  Female  \n",
       "4  Female  "
      ]
     },
     "execution_count": 10,
     "metadata": {},
     "output_type": "execute_result"
    }
   ],
   "source": [
    "titanic_data = pd.read_csv(csv_path)\n",
    "titanic_data.head()"
   ]
  },
  {
   "cell_type": "code",
   "execution_count": 11,
   "metadata": {},
   "outputs": [
    {
     "name": "stdout",
     "output_type": "stream",
     "text": [
      "<class 'pandas.core.frame.DataFrame'>\n",
      "RangeIndex: 1309 entries, 0 to 1308\n",
      "Data columns (total 15 columns):\n",
      " #   Column     Non-Null Count  Dtype \n",
      "---  ------     --------------  ----- \n",
      " 0   pclass     1309 non-null   int64 \n",
      " 1   survived   1309 non-null   int64 \n",
      " 2   Residence  1309 non-null   int64 \n",
      " 3   name       1309 non-null   object\n",
      " 4   age        1309 non-null   object\n",
      " 5   sibsp      1309 non-null   int64 \n",
      " 6   parch      1309 non-null   int64 \n",
      " 7   ticket     1309 non-null   object\n",
      " 8   fare       1309 non-null   object\n",
      " 9   cabin      1309 non-null   object\n",
      " 10  embarked   1309 non-null   object\n",
      " 11  boat       1309 non-null   object\n",
      " 12  body       1309 non-null   object\n",
      " 13  home.dest  1309 non-null   object\n",
      " 14  Gender     1309 non-null   object\n",
      "dtypes: int64(5), object(10)\n",
      "memory usage: 153.5+ KB\n"
     ]
    }
   ],
   "source": [
    "titanic_data.info()"
   ]
  },
  {
   "cell_type": "markdown",
   "metadata": {
    "id": "8nhjqw_tIaEx"
   },
   "source": [
    "# Hints on Exploratory Data Analysis\n",
    "The task of Data Processing can be generally defined as \n",
    "- \"the collection and manipulation of items of data to produce meaningful information\" [wiki](https://en.wikipedia.org/wiki/Data_processing)\n",
    "\n",
    "Examples of information interesting for an EDA on the Titanic dataset:\n",
    "* Total number of entries and column types\n",
    "* Check quality of data\n",
    "  * Duplicate entries\n",
    "  * Check for null values (and try to handle them)\n",
    "* Check for (un)balancing of data\n",
    "  * Check distribution of numeric data \n",
    "  * Check distribution of target variable\n",
    "* More passenger-specific information\n",
    "  * Who were the passengers on the Titanic? (i.e., Age, Gender, Class etc.)\n",
    "  * Who was alone and who was with family?\n",
    "  * What factors helped people surviving?"
   ]
  },
  {
   "cell_type": "markdown",
   "metadata": {},
   "source": [
    "## Survival distribution for each gender"
   ]
  },
  {
   "cell_type": "markdown",
   "metadata": {},
   "source": [
    "Here we only exemplify: distribution of the values of the target variable"
   ]
  },
  {
   "cell_type": "code",
   "execution_count": 12,
   "metadata": {
    "colab": {
     "base_uri": "https://localhost:8080/"
    },
    "id": "Lh4Xekh11yqC",
    "outputId": "d1b02718-aab7-4784-d408-ad859bb1a829"
   },
   "outputs": [
    {
     "data": {
      "text/plain": [
       "survived\n",
       "0    809\n",
       "1    500\n",
       "Name: count, dtype: int64"
      ]
     },
     "execution_count": 12,
     "metadata": {},
     "output_type": "execute_result"
    }
   ],
   "source": [
    "titanic_data.survived.value_counts()"
   ]
  },
  {
   "cell_type": "markdown",
   "metadata": {},
   "source": [
    "From this we know that \n",
    "- 809 passengers died\n",
    "- 500 passengers survived\n",
    "\n",
    "Can we look at these numbers in greater detail?\n",
    "- E.g., we could naturally group by either the `Gender` or `survived` attributes, or both\n",
    "- We do this using `groupby` operations"
   ]
  },
  {
   "cell_type": "markdown",
   "metadata": {
    "id": "BUYm7uLN0wPD"
   },
   "source": [
    "A groupby operation involves some combination of \n",
    "* Splitting the data into groups based on some criteria.\n",
    "  - Split survided and dead males and females\n",
    "* Applying a function to each group independently.\n",
    "  - How many Males and Females survived, how many died?\n",
    "* Combining the results into a data structure.\n",
    "  - Let's plot this information"
   ]
  },
  {
   "cell_type": "markdown",
   "metadata": {},
   "source": [
    "We first focus on\n",
    "- survived\n",
    "- not survived\n",
    "\n",
    "To compute the `mean`, we must consider only 'numeric data'"
   ]
  },
  {
   "cell_type": "code",
   "execution_count": 13,
   "metadata": {},
   "outputs": [
    {
     "data": {
      "text/html": [
       "<div>\n",
       "<style scoped>\n",
       "    .dataframe tbody tr th:only-of-type {\n",
       "        vertical-align: middle;\n",
       "    }\n",
       "\n",
       "    .dataframe tbody tr th {\n",
       "        vertical-align: top;\n",
       "    }\n",
       "\n",
       "    .dataframe thead th {\n",
       "        text-align: right;\n",
       "    }\n",
       "</style>\n",
       "<table border=\"1\" class=\"dataframe\">\n",
       "  <thead>\n",
       "    <tr style=\"text-align: right;\">\n",
       "      <th></th>\n",
       "      <th>pclass</th>\n",
       "      <th>Residence</th>\n",
       "      <th>sibsp</th>\n",
       "      <th>parch</th>\n",
       "      <th>survived</th>\n",
       "    </tr>\n",
       "  </thead>\n",
       "  <tbody>\n",
       "    <tr>\n",
       "      <th>0</th>\n",
       "      <td>3</td>\n",
       "      <td>0</td>\n",
       "      <td>0</td>\n",
       "      <td>0</td>\n",
       "      <td>0</td>\n",
       "    </tr>\n",
       "    <tr>\n",
       "      <th>1</th>\n",
       "      <td>3</td>\n",
       "      <td>0</td>\n",
       "      <td>0</td>\n",
       "      <td>2</td>\n",
       "      <td>0</td>\n",
       "    </tr>\n",
       "    <tr>\n",
       "      <th>2</th>\n",
       "      <td>3</td>\n",
       "      <td>0</td>\n",
       "      <td>1</td>\n",
       "      <td>1</td>\n",
       "      <td>0</td>\n",
       "    </tr>\n",
       "    <tr>\n",
       "      <th>3</th>\n",
       "      <td>3</td>\n",
       "      <td>0</td>\n",
       "      <td>1</td>\n",
       "      <td>1</td>\n",
       "      <td>1</td>\n",
       "    </tr>\n",
       "    <tr>\n",
       "      <th>4</th>\n",
       "      <td>3</td>\n",
       "      <td>2</td>\n",
       "      <td>0</td>\n",
       "      <td>0</td>\n",
       "      <td>1</td>\n",
       "    </tr>\n",
       "    <tr>\n",
       "      <th>...</th>\n",
       "      <td>...</td>\n",
       "      <td>...</td>\n",
       "      <td>...</td>\n",
       "      <td>...</td>\n",
       "      <td>...</td>\n",
       "    </tr>\n",
       "    <tr>\n",
       "      <th>1304</th>\n",
       "      <td>3</td>\n",
       "      <td>2</td>\n",
       "      <td>1</td>\n",
       "      <td>0</td>\n",
       "      <td>0</td>\n",
       "    </tr>\n",
       "    <tr>\n",
       "      <th>1305</th>\n",
       "      <td>3</td>\n",
       "      <td>2</td>\n",
       "      <td>1</td>\n",
       "      <td>0</td>\n",
       "      <td>0</td>\n",
       "    </tr>\n",
       "    <tr>\n",
       "      <th>1306</th>\n",
       "      <td>3</td>\n",
       "      <td>2</td>\n",
       "      <td>0</td>\n",
       "      <td>0</td>\n",
       "      <td>0</td>\n",
       "    </tr>\n",
       "    <tr>\n",
       "      <th>1307</th>\n",
       "      <td>3</td>\n",
       "      <td>2</td>\n",
       "      <td>0</td>\n",
       "      <td>0</td>\n",
       "      <td>0</td>\n",
       "    </tr>\n",
       "    <tr>\n",
       "      <th>1308</th>\n",
       "      <td>3</td>\n",
       "      <td>2</td>\n",
       "      <td>0</td>\n",
       "      <td>0</td>\n",
       "      <td>0</td>\n",
       "    </tr>\n",
       "  </tbody>\n",
       "</table>\n",
       "<p>1309 rows × 5 columns</p>\n",
       "</div>"
      ],
      "text/plain": [
       "      pclass  Residence  sibsp  parch  survived\n",
       "0          3          0      0      0         0\n",
       "1          3          0      0      2         0\n",
       "2          3          0      1      1         0\n",
       "3          3          0      1      1         1\n",
       "4          3          2      0      0         1\n",
       "...      ...        ...    ...    ...       ...\n",
       "1304       3          2      1      0         0\n",
       "1305       3          2      1      0         0\n",
       "1306       3          2      0      0         0\n",
       "1307       3          2      0      0         0\n",
       "1308       3          2      0      0         0\n",
       "\n",
       "[1309 rows x 5 columns]"
      ]
     },
     "execution_count": 13,
     "metadata": {},
     "output_type": "execute_result"
    }
   ],
   "source": [
    "titanic_data_numeric=titanic_data[['pclass','Residence','sibsp','parch','survived']]\n",
    "titanic_data_numeric"
   ]
  },
  {
   "cell_type": "code",
   "execution_count": 14,
   "metadata": {
    "colab": {
     "base_uri": "https://localhost:8080/",
     "height": 142
    },
    "id": "QW9rnYjxplK3",
    "outputId": "e187b554-8afc-4991-ccfd-9900131307e5"
   },
   "outputs": [
    {
     "data": {
      "text/html": [
       "<div>\n",
       "<style scoped>\n",
       "    .dataframe tbody tr th:only-of-type {\n",
       "        vertical-align: middle;\n",
       "    }\n",
       "\n",
       "    .dataframe tbody tr th {\n",
       "        vertical-align: top;\n",
       "    }\n",
       "\n",
       "    .dataframe thead th {\n",
       "        text-align: right;\n",
       "    }\n",
       "</style>\n",
       "<table border=\"1\" class=\"dataframe\">\n",
       "  <thead>\n",
       "    <tr style=\"text-align: right;\">\n",
       "      <th></th>\n",
       "      <th>pclass</th>\n",
       "      <th>Residence</th>\n",
       "      <th>sibsp</th>\n",
       "      <th>parch</th>\n",
       "    </tr>\n",
       "    <tr>\n",
       "      <th>survived</th>\n",
       "      <th></th>\n",
       "      <th></th>\n",
       "      <th></th>\n",
       "      <th></th>\n",
       "    </tr>\n",
       "  </thead>\n",
       "  <tbody>\n",
       "    <tr>\n",
       "      <th>0</th>\n",
       "      <td>2.500618</td>\n",
       "      <td>1.466007</td>\n",
       "      <td>0.521632</td>\n",
       "      <td>0.328801</td>\n",
       "    </tr>\n",
       "    <tr>\n",
       "      <th>1</th>\n",
       "      <td>1.962000</td>\n",
       "      <td>1.228000</td>\n",
       "      <td>0.462000</td>\n",
       "      <td>0.476000</td>\n",
       "    </tr>\n",
       "  </tbody>\n",
       "</table>\n",
       "</div>"
      ],
      "text/plain": [
       "            pclass  Residence     sibsp     parch\n",
       "survived                                         \n",
       "0         2.500618   1.466007  0.521632  0.328801\n",
       "1         1.962000   1.228000  0.462000  0.476000"
      ]
     },
     "execution_count": 14,
     "metadata": {},
     "output_type": "execute_result"
    }
   ],
   "source": [
    "titanic_data_numeric.groupby(['survived']).mean()"
   ]
  },
  {
   "cell_type": "markdown",
   "metadata": {},
   "source": [
    "Why do we get this weird data?\n",
    "- Becuase, by default, `mean` is applied to all numeric columns (excluding `survived` on which we grouped)\n",
    "  - actually, this is an old comment. In latest versions, pandas gives an error if mean is applied on non-numeric columns (e.g., with strings)\n",
    "- Computing the mean of ordinal values is not particularly informative... More on this in Part 2\n",
    "\n",
    "Let's compute some more interesting data.<br/>\n",
    "We focus on \n",
    "  - male\n",
    "    - survived\n",
    "    - not survived\n",
    "  - female\n",
    "    - survived\n",
    "    - not survived    "
   ]
  },
  {
   "cell_type": "code",
   "execution_count": 15,
   "metadata": {},
   "outputs": [
    {
     "data": {
      "text/plain": [
       "Gender  survived\n",
       "Female  0           127\n",
       "        1           339\n",
       "Male    0           682\n",
       "        1           161\n",
       "dtype: int64"
      ]
     },
     "execution_count": 15,
     "metadata": {},
     "output_type": "execute_result"
    }
   ],
   "source": [
    "titanic_data.groupby(['Gender','survived']).size()"
   ]
  },
  {
   "cell_type": "markdown",
   "metadata": {},
   "source": [
    "Let's plot this information using\n",
    "- Matplotlib"
   ]
  },
  {
   "cell_type": "code",
   "execution_count": 16,
   "metadata": {
    "colab": {
     "base_uri": "https://localhost:8080/",
     "height": 282
    },
    "id": "0iKo3Pm90pjM",
    "outputId": "8dbaeffa-6c8b-47ca-de8a-13a6b72ea575"
   },
   "outputs": [
    {
     "data": {
      "text/plain": [
       "<Axes: ylabel='Gender,survived'>"
      ]
     },
     "execution_count": 16,
     "metadata": {},
     "output_type": "execute_result"
    },
    {
     "data": {
      "image/png": "[encoded data removed]",
      "text/plain": [
       "<Figure size 640x480 with 1 Axes>"
      ]
     },
     "metadata": {},
     "output_type": "display_data"
    }
   ],
   "source": [
    "titanic_data.groupby(['Gender','survived']).size().plot(kind='barh')"
   ]
  },
  {
   "cell_type": "markdown",
   "metadata": {},
   "source": [
    "Seaborn can compute this for us automatically"
   ]
  },
  {
   "cell_type": "code",
   "execution_count": 17,
   "metadata": {
    "colab": {
     "base_uri": "https://localhost:8080/",
     "height": 296
    },
    "id": "cKrlCUwy9xNI",
    "outputId": "e184f864-b19c-4c67-c0d5-8bc29e9703a1"
   },
   "outputs": [
    {
     "data": {
      "text/plain": [
       "<Axes: xlabel='Gender', ylabel='count'>"
      ]
     },
     "execution_count": 17,
     "metadata": {},
     "output_type": "execute_result"
    },
    {
     "data": {
      "image/png": "[encoded data removed]",
      "text/plain": [
       "<Figure size 640x480 with 1 Axes>"
      ]
     },
     "metadata": {},
     "output_type": "display_data"
    }
   ],
   "source": [
    "import seaborn as sns\n",
    "sns.countplot(data=titanic_data, x='Gender',hue='survived')"
   ]
  },
  {
   "cell_type": "markdown",
   "metadata": {},
   "source": [
    "## Missing values: pay attentiton to what you ask for!"
   ]
  },
  {
   "cell_type": "markdown",
   "metadata": {},
   "source": [
    "Another exmaple is: How many NaN do we have?\n",
    "- We saw in the `titanic_data.info()` above there are no NA"
   ]
  },
  {
   "cell_type": "code",
   "execution_count": 18,
   "metadata": {},
   "outputs": [
    {
     "name": "stdout",
     "output_type": "stream",
     "text": [
      "<class 'pandas.core.frame.DataFrame'>\n",
      "RangeIndex: 1309 entries, 0 to 1308\n",
      "Data columns (total 15 columns):\n",
      " #   Column     Non-Null Count  Dtype \n",
      "---  ------     --------------  ----- \n",
      " 0   pclass     1309 non-null   int64 \n",
      " 1   survived   1309 non-null   int64 \n",
      " 2   Residence  1309 non-null   int64 \n",
      " 3   name       1309 non-null   object\n",
      " 4   age        1309 non-null   object\n",
      " 5   sibsp      1309 non-null   int64 \n",
      " 6   parch      1309 non-null   int64 \n",
      " 7   ticket     1309 non-null   object\n",
      " 8   fare       1309 non-null   object\n",
      " 9   cabin      1309 non-null   object\n",
      " 10  embarked   1309 non-null   object\n",
      " 11  boat       1309 non-null   object\n",
      " 12  body       1309 non-null   object\n",
      " 13  home.dest  1309 non-null   object\n",
      " 14  Gender     1309 non-null   object\n",
      "dtypes: int64(5), object(10)\n",
      "memory usage: 153.5+ KB\n"
     ]
    }
   ],
   "source": [
    "titanic_data.info()"
   ]
  },
  {
   "cell_type": "markdown",
   "metadata": {},
   "source": [
    "Are we sure about this!?"
   ]
  },
  {
   "cell_type": "code",
   "execution_count": 19,
   "metadata": {
    "colab": {
     "base_uri": "https://localhost:8080/"
    },
    "id": "qdTXJoTq-Lgz",
    "outputId": "612de506-c9e7-4227-b8d1-623182f034ba"
   },
   "outputs": [
    {
     "data": {
      "text/plain": [
       "pclass       0\n",
       "survived     0\n",
       "Residence    0\n",
       "name         0\n",
       "age          0\n",
       "sibsp        0\n",
       "parch        0\n",
       "ticket       0\n",
       "fare         0\n",
       "cabin        0\n",
       "embarked     0\n",
       "boat         0\n",
       "body         0\n",
       "home.dest    0\n",
       "Gender       0\n",
       "dtype: int64"
      ]
     },
     "execution_count": 19,
     "metadata": {},
     "output_type": "execute_result"
    }
   ],
   "source": [
    "titanic_data.isna().sum()"
   ]
  },
  {
   "cell_type": "markdown",
   "metadata": {},
   "source": [
    "It really seems that we have no missing values.\n",
    "\n",
    "Are we really really sure!?\n",
    "- Take a look in the link below:\n",
    "  - There are plenty of `' '`\n",
    "  - Pandas failed to recognize them as NA.\n",
    "  - How can we spot them? We make them NA!"
   ]
  },
  {
   "cell_type": "code",
   "execution_count": 20,
   "metadata": {},
   "outputs": [
    {
     "data": {
      "text/plain": [
       "'https://raw.githubusercontent.com/EMbeDS-education/ComputingDataAnalysisModeling20232024/main/datasets/TITANIC.csv'"
      ]
     },
     "execution_count": 20,
     "metadata": {},
     "output_type": "execute_result"
    }
   ],
   "source": [
    "csv_path"
   ]
  },
  {
   "cell_type": "code",
   "execution_count": 21,
   "metadata": {},
   "outputs": [
    {
     "data": {
      "text/html": [
       "<div>\n",
       "<style scoped>\n",
       "    .dataframe tbody tr th:only-of-type {\n",
       "        vertical-align: middle;\n",
       "    }\n",
       "\n",
       "    .dataframe tbody tr th {\n",
       "        vertical-align: top;\n",
       "    }\n",
       "\n",
       "    .dataframe thead th {\n",
       "        text-align: right;\n",
       "    }\n",
       "</style>\n",
       "<table border=\"1\" class=\"dataframe\">\n",
       "  <thead>\n",
       "    <tr style=\"text-align: right;\">\n",
       "      <th></th>\n",
       "      <th>pclass</th>\n",
       "      <th>survived</th>\n",
       "      <th>Residence</th>\n",
       "      <th>name</th>\n",
       "      <th>age</th>\n",
       "      <th>sibsp</th>\n",
       "      <th>parch</th>\n",
       "      <th>ticket</th>\n",
       "      <th>fare</th>\n",
       "      <th>cabin</th>\n",
       "      <th>embarked</th>\n",
       "      <th>boat</th>\n",
       "      <th>body</th>\n",
       "      <th>home.dest</th>\n",
       "      <th>Gender</th>\n",
       "    </tr>\n",
       "  </thead>\n",
       "  <tbody>\n",
       "    <tr>\n",
       "      <th>0</th>\n",
       "      <td>3</td>\n",
       "      <td>0</td>\n",
       "      <td>0</td>\n",
       "      <td>Abbing, Mr. Anthony</td>\n",
       "      <td>42</td>\n",
       "      <td>0</td>\n",
       "      <td>0</td>\n",
       "      <td>C.A. 5547</td>\n",
       "      <td>7.55</td>\n",
       "      <td>&lt;NA&gt;</td>\n",
       "      <td>S</td>\n",
       "      <td>&lt;NA&gt;</td>\n",
       "      <td>&lt;NA&gt;</td>\n",
       "      <td>&lt;NA&gt;</td>\n",
       "      <td>Male</td>\n",
       "    </tr>\n",
       "    <tr>\n",
       "      <th>1</th>\n",
       "      <td>3</td>\n",
       "      <td>0</td>\n",
       "      <td>0</td>\n",
       "      <td>Abbott, Master. Eugene Joseph</td>\n",
       "      <td>13</td>\n",
       "      <td>0</td>\n",
       "      <td>2</td>\n",
       "      <td>C.A. 2673</td>\n",
       "      <td>20.25</td>\n",
       "      <td>&lt;NA&gt;</td>\n",
       "      <td>S</td>\n",
       "      <td>&lt;NA&gt;</td>\n",
       "      <td>&lt;NA&gt;</td>\n",
       "      <td>East Providence, RI</td>\n",
       "      <td>Male</td>\n",
       "    </tr>\n",
       "    <tr>\n",
       "      <th>2</th>\n",
       "      <td>3</td>\n",
       "      <td>0</td>\n",
       "      <td>0</td>\n",
       "      <td>Abbott, Mr. Rossmore Edward</td>\n",
       "      <td>16</td>\n",
       "      <td>1</td>\n",
       "      <td>1</td>\n",
       "      <td>C.A. 2673</td>\n",
       "      <td>20.25</td>\n",
       "      <td>&lt;NA&gt;</td>\n",
       "      <td>S</td>\n",
       "      <td>&lt;NA&gt;</td>\n",
       "      <td>190</td>\n",
       "      <td>East Providence, RI</td>\n",
       "      <td>Male</td>\n",
       "    </tr>\n",
       "    <tr>\n",
       "      <th>3</th>\n",
       "      <td>3</td>\n",
       "      <td>1</td>\n",
       "      <td>0</td>\n",
       "      <td>Abbott, Mrs. Stanton (Rosa Hunt)</td>\n",
       "      <td>35</td>\n",
       "      <td>1</td>\n",
       "      <td>1</td>\n",
       "      <td>C.A. 2673</td>\n",
       "      <td>20.25</td>\n",
       "      <td>&lt;NA&gt;</td>\n",
       "      <td>S</td>\n",
       "      <td>A</td>\n",
       "      <td>&lt;NA&gt;</td>\n",
       "      <td>East Providence, RI</td>\n",
       "      <td>Female</td>\n",
       "    </tr>\n",
       "    <tr>\n",
       "      <th>4</th>\n",
       "      <td>3</td>\n",
       "      <td>1</td>\n",
       "      <td>2</td>\n",
       "      <td>Abelseth, Miss. Karen Marie</td>\n",
       "      <td>16</td>\n",
       "      <td>0</td>\n",
       "      <td>0</td>\n",
       "      <td>348125</td>\n",
       "      <td>7.65</td>\n",
       "      <td>&lt;NA&gt;</td>\n",
       "      <td>S</td>\n",
       "      <td>16</td>\n",
       "      <td>&lt;NA&gt;</td>\n",
       "      <td>Norway Los Angeles, CA</td>\n",
       "      <td>Female</td>\n",
       "    </tr>\n",
       "  </tbody>\n",
       "</table>\n",
       "</div>"
      ],
      "text/plain": [
       "   pclass  survived  Residence                              name age  sibsp  \\\n",
       "0       3         0          0               Abbing, Mr. Anthony  42      0   \n",
       "1       3         0          0     Abbott, Master. Eugene Joseph  13      0   \n",
       "2       3         0          0       Abbott, Mr. Rossmore Edward  16      1   \n",
       "3       3         1          0  Abbott, Mrs. Stanton (Rosa Hunt)  35      1   \n",
       "4       3         1          2       Abelseth, Miss. Karen Marie  16      0   \n",
       "\n",
       "   parch     ticket   fare cabin embarked  boat  body               home.dest  \\\n",
       "0      0  C.A. 5547   7.55  <NA>        S  <NA>  <NA>                    <NA>   \n",
       "1      2  C.A. 2673  20.25  <NA>        S  <NA>  <NA>     East Providence, RI   \n",
       "2      1  C.A. 2673  20.25  <NA>        S  <NA>   190     East Providence, RI   \n",
       "3      1  C.A. 2673  20.25  <NA>        S     A  <NA>     East Providence, RI   \n",
       "4      0     348125   7.65  <NA>        S    16  <NA>  Norway Los Angeles, CA   \n",
       "\n",
       "   Gender  \n",
       "0    Male  \n",
       "1    Male  \n",
       "2    Male  \n",
       "3  Female  \n",
       "4  Female  "
      ]
     },
     "execution_count": 21,
     "metadata": {},
     "output_type": "execute_result"
    }
   ],
   "source": [
    "titanic_data_no_space=titanic_data.replace(' ',pd.NA)\n",
    "titanic_data_no_space.head()"
   ]
  },
  {
   "cell_type": "code",
   "execution_count": 22,
   "metadata": {},
   "outputs": [
    {
     "name": "stdout",
     "output_type": "stream",
     "text": [
      "<class 'pandas.core.frame.DataFrame'>\n",
      "RangeIndex: 1309 entries, 0 to 1308\n",
      "Data columns (total 15 columns):\n",
      " #   Column     Non-Null Count  Dtype \n",
      "---  ------     --------------  ----- \n",
      " 0   pclass     1309 non-null   int64 \n",
      " 1   survived   1309 non-null   int64 \n",
      " 2   Residence  1309 non-null   int64 \n",
      " 3   name       1309 non-null   object\n",
      " 4   age        1046 non-null   object\n",
      " 5   sibsp      1309 non-null   int64 \n",
      " 6   parch      1309 non-null   int64 \n",
      " 7   ticket     1309 non-null   object\n",
      " 8   fare       1308 non-null   object\n",
      " 9   cabin      295 non-null    object\n",
      " 10  embarked   1307 non-null   object\n",
      " 11  boat       486 non-null    object\n",
      " 12  body       121 non-null    object\n",
      " 13  home.dest  745 non-null    object\n",
      " 14  Gender     1309 non-null   object\n",
      "dtypes: int64(5), object(10)\n",
      "memory usage: 153.5+ KB\n"
     ]
    }
   ],
   "source": [
    "titanic_data_no_space.info()"
   ]
  },
  {
   "cell_type": "code",
   "execution_count": 23,
   "metadata": {},
   "outputs": [
    {
     "data": {
      "text/plain": [
       "pclass          0\n",
       "survived        0\n",
       "Residence       0\n",
       "name            0\n",
       "age           263\n",
       "sibsp           0\n",
       "parch           0\n",
       "ticket          0\n",
       "fare            1\n",
       "cabin        1014\n",
       "embarked        2\n",
       "boat          823\n",
       "body         1188\n",
       "home.dest     564\n",
       "Gender          0\n",
       "dtype: int64"
      ]
     },
     "execution_count": 23,
     "metadata": {},
     "output_type": "execute_result"
    }
   ],
   "source": [
    "titanic_data_no_space.isna().sum()"
   ]
  },
  {
   "cell_type": "markdown",
   "metadata": {},
   "source": [
    "Characteristics of rows with missing values?\n",
    "- we can do this without groupby\n",
    "\n",
    "\n",
    "How many survived/non-survived have missing values?"
   ]
  },
  {
   "cell_type": "code",
   "execution_count": 24,
   "metadata": {},
   "outputs": [
    {
     "data": {
      "text/plain": [
       "pclass         0\n",
       "survived       0\n",
       "Residence      0\n",
       "name           0\n",
       "age          190\n",
       "sibsp          0\n",
       "parch          0\n",
       "ticket         0\n",
       "fare           1\n",
       "cabin        707\n",
       "embarked       0\n",
       "boat         800\n",
       "body         688\n",
       "home.dest    411\n",
       "Gender         0\n",
       "dtype: int64"
      ]
     },
     "execution_count": 24,
     "metadata": {},
     "output_type": "execute_result"
    }
   ],
   "source": [
    "titanic_data_no_space[titanic_data_no_space['survived']==0].isna().sum()"
   ]
  },
  {
   "cell_type": "code",
   "execution_count": 25,
   "metadata": {},
   "outputs": [
    {
     "data": {
      "text/plain": [
       "pclass         0\n",
       "survived       0\n",
       "Residence      0\n",
       "name           0\n",
       "age           73\n",
       "sibsp          0\n",
       "parch          0\n",
       "ticket         0\n",
       "fare           0\n",
       "cabin        307\n",
       "embarked       2\n",
       "boat          23\n",
       "body         500\n",
       "home.dest    153\n",
       "Gender         0\n",
       "dtype: int64"
      ]
     },
     "execution_count": 25,
     "metadata": {},
     "output_type": "execute_result"
    }
   ],
   "source": [
    "titanic_data_no_space[titanic_data_no_space['survived']==1].isna().sum()"
   ]
  },
  {
   "cell_type": "markdown",
   "metadata": {},
   "source": [
    "Average characteristics of survived/non-survived passengers with missing values?"
   ]
  },
  {
   "cell_type": "code",
   "execution_count": 26,
   "metadata": {},
   "outputs": [
    {
     "data": {
      "text/plain": [
       "pclass       0.000000\n",
       "survived     0.000000\n",
       "Residence    0.000000\n",
       "name         0.000000\n",
       "age          0.234858\n",
       "sibsp        0.000000\n",
       "parch        0.000000\n",
       "ticket       0.000000\n",
       "fare         0.001236\n",
       "cabin        0.873918\n",
       "embarked     0.000000\n",
       "boat         0.988875\n",
       "body         0.850433\n",
       "home.dest    0.508035\n",
       "Gender       0.000000\n",
       "dtype: float64"
      ]
     },
     "execution_count": 26,
     "metadata": {},
     "output_type": "execute_result"
    }
   ],
   "source": [
    "#The symbol '\\' allows you to break a pythno line in two \n",
    "titanic_data_no_space[titanic_data_no_space['survived']==0].isna().sum()/          \\\n",
    "titanic_data_no_space[titanic_data_no_space['survived']==0].shape[0]"
   ]
  },
  {
   "cell_type": "code",
   "execution_count": 27,
   "metadata": {},
   "outputs": [
    {
     "data": {
      "text/plain": [
       "pclass       0.000\n",
       "survived     0.000\n",
       "Residence    0.000\n",
       "name         0.000\n",
       "age          0.146\n",
       "sibsp        0.000\n",
       "parch        0.000\n",
       "ticket       0.000\n",
       "fare         0.000\n",
       "cabin        0.614\n",
       "embarked     0.004\n",
       "boat         0.046\n",
       "body         1.000\n",
       "home.dest    0.306\n",
       "Gender       0.000\n",
       "dtype: float64"
      ]
     },
     "execution_count": 27,
     "metadata": {},
     "output_type": "execute_result"
    }
   ],
   "source": [
    "(titanic_data_no_space[titanic_data_no_space['survived']==1].isna().sum())/  \\\n",
    "(titanic_data_no_space[titanic_data_no_space['survived']==1].shape[0])"
   ]
  }
 ],
 "metadata": {
  "colab": {
   "collapsed_sections": [],
   "name": "Titanic_EDA.ipynb",
   "provenance": []
  },
  "kernelspec": {
   "display_name": "env_pdai_2024",
   "language": "python",
   "name": "env_pdai_2024"
  },
  "language_info": {
   "codemirror_mode": {
    "name": "ipython",
    "version": 3
   },
   "file_extension": ".py",
   "mimetype": "text/x-python",
   "name": "python",
   "nbconvert_exporter": "python",
   "pygments_lexer": "ipython3",
   "version": "3.9.10"
  }
 },
 "nbformat": 4,
 "nbformat_minor": 4
}
