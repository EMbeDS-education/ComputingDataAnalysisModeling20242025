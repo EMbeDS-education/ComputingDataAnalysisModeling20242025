{
 "cells": [
  {
   "cell_type": "markdown",
   "id": "db1bef82-6f68-46f5-b443-1adcc50dfe7b",
   "metadata": {},
   "source": [
    "<center><font size=\"+4\">Programming & Data Analytics & AI 2 PM 2024/2025</font></center>\n",
    "<center><font size=\"+2\">Sant'Anna School of Advanced Studies, Pisa, Italy</font></center>\n",
    "<center><img src=\"https://github.com/EMbeDS-education/ComputingDataAnalysisModeling20242025/raw/main/PDAI/jupyter/jupyterNotebooks/images/sssaLEMBEDSdtu.png\" width=\"900\" alt=\"L'EMbeDS\"></center>\n",
    "\n",
    "<center><font size=\"+2\">Course responsible</font></center>\n",
    "<center><font size=\"+2\">Andrea Vandin a.vandin@santannapisa.it</font></center>\n",
    "\n",
    "---"
   ]
  },
  {
   "cell_type": "markdown",
   "id": "055810aa-0e7d-4a05-92ef-0753f144f5ba",
   "metadata": {},
   "source": [
    "<center><font size=\"+2\">Introduction to </font></center>\n",
    "<center><font size=\"+2\">Process-oriented Data Science: Process mining</font></center>\n",
    "\n",
    "---\n",
    "---"
   ]
  },
  {
   "cell_type": "markdown",
   "id": "a7314ff8-972e-4151-8b3a-f195d7aef89c",
   "metadata": {
    "tags": []
   },
   "source": [
    "# Course Overview"
   ]
  },
  {
   "cell_type": "markdown",
   "id": "97af55c8-b06c-499a-bb5c-2badb9ad731a",
   "metadata": {},
   "source": [
    "In this course we will __introduce you to__ the world of __Process Mining__\n",
    "- Typical data science projects study the data to \n",
    "   - Predict properties on future unseen data\n",
    "   - Classify the data points in groups\n",
    "   - ...\n",
    "   \n",
    "- In this course, instead, we will study the data to \n",
    "  - Study the _data generating process_\n",
    "    - What is the process that generated the data? \n",
    "    - What are its main steps? \n",
    "    - Is it correct? \n",
    "    - Can it be improved?\n",
    "- Processes are everywhere!\n",
    "  - When you book an airplan flight several intermediate steps are necessary\n",
    "    - Identify company\n",
    "    - Identify flight\n",
    "    - Book flight\n",
    "    - Perform payment ...\n",
    "  - But, really, processes are everywhere. We will study many examples\n",
    "\n",
    "\n",
    "We hope that after this course it will be clear that\n",
    "  - a data scientist can turn data into _greater_ value if considering also processes. \n",
    "\n",
    "\n",
    "This will be an applied course\n",
    "  - A lot of examples and analyses\n",
    "  - Just a few necessary boring presentations of technical details :D\n",
    "  - You will have to produce a process mining project!"
   ]
  },
  {
   "cell_type": "markdown",
   "id": "9c37238b-f0f8-4804-bed1-a6b8f66eaeaf",
   "metadata": {},
   "source": [
    "# How are we going to evaluate you?\n",
    "\n",
    "## Oral examination based on a report on assignments & project\n",
    "* _Assignments_\n",
    "    * Similarly to module 1, we provide some simple coding assignments\n",
    "    * These are to test the topics somehow complementarily to the project work\n",
    "    * You shall hand in your assignments by the exam date. \n",
    "* _Project report_\n",
    "    * You will be given a simple _classic PM_ dataset\n",
    "      * Would have you survived the Titanic shipwreck?\n",
    "      * Or __you can propose one of interest if any__\n",
    "        - Highly suggested! \n",
    "        - Please contact us\n",
    "        - You can do this only if we explicitly agree\n",
    "    * You will be asked to do a data-analysis PM project \n",
    "\n",
    "* Groups\n",
    "    * You can form __groups of 3 or 2 students__\n",
    "       * Both for the assignments and the project\n",
    "    * We will do a group oral examination based on your assignments and project"
   ]
  },
  {
   "cell_type": "markdown",
   "id": "81a763f3-f0de-46cc-9cef-be1a2f35e568",
   "metadata": {
    "tags": []
   },
   "source": [
    "## The project\n",
    "- Once the dataset has been chosen\n",
    "- __Your task is to analyze this dataset in the lines of what shown in the course__\n",
    "  - The final goal is to do a PM project studying the data generating process \n",
    "    - But we are flexible on this. It depends on the dataset...\n",
    "    - E.g., if starting from a real-world dataset, it may be necessary to invest plenty of time pre-processing the data...\n",
    "  - BEWARE: \n",
    "    - Try first to understand the data!\n",
    "    - Not all datasets are the same!\n",
    "      - Do not just blindly apply all tasks seen in class, with the same parameters. \n",
    "      - Try to perform reasoned choices.\n",
    "      -  You are free to choose part of the techniques/tools seen during the course\n",
    "         - **Motivate your choices**\n",
    "  \n",
    "\n",
    "  - You should prepare a [jupyterLab notebook](https://jupyterlab.readthedocs.io/en/stable/), or colab notebook (which is the same thing) containing your analysis \n",
    "      - **Properly commenting/motivating each step with suitable comments**\n",
    "      - Similarly to what we do in the jupyterLab notebooks we use in our classes\n",
    "      - Why a notebook?\n",
    "        - Natural choice if you use pm4py, wghich is a python library\n",
    "        - An alternative way to create slides if you use third-parties tools, like Disco\n",
    "          - Please note, PM is an interactive process. You may have to:\n",
    "            - use python to pre-process the data\n",
    "            - use disco to analyze it and output refine data\n",
    "            - use python to process the generated data \n",
    "            - use disco to analyses the processed data\n",
    "            - ....\n",
    "          - This is why we ask you to create a notebook"
   ]
  },
  {
   "cell_type": "markdown",
   "id": "11ff8574-bd20-4a12-bd2a-02dcbccb4085",
   "metadata": {},
   "source": [
    "## Can I apply process mining to my own data?\n",
    "- __Yes! Event data are everywhere!.__\n",
    "- We encourage you to apply the techniques covered in this course to your own data sets, e.g.\n",
    "  - data from social networks\n",
    "  - data from information systems of enterprises \n",
    "- I personally applied it to\n",
    "  - Healthcare data\n",
    "  - Legal data\n",
    "  - 20+ popular public datasets"
   ]
  },
  {
   "cell_type": "code",
   "execution_count": 5,
   "id": "2bc35f1c-504e-4da4-93e4-dbae6342d351",
   "metadata": {},
   "outputs": [
    {
     "name": "stdout",
     "output_type": "stream",
     "text": [
      "The slides used today\n"
     ]
    },
    {
     "data": {
      "text/plain": [
       "'https://github.com/EMbeDS-education/ComputingDataAnalysisModeling20242025/raw/main/PDAI/slides/processMining/ProcessMiningTutorial.pdf'"
      ]
     },
     "execution_count": 5,
     "metadata": {},
     "output_type": "execute_result"
    }
   ],
   "source": [
    "url_github_repo_basic=\"https://github.com/EMbeDS-education/ComputingDataAnalysisModeling20242025/raw/main/\"\n",
    "url_github_repo=url_github_repo_basic+\"PDAI/\"\n",
    "\n",
    "\n",
    "print('The slides used today')\n",
    "slides= url_github_repo + \"slides/processMining/ProcessMiningTutorial.pdf\"\n",
    "slides"
   ]
  },
  {
   "cell_type": "markdown",
   "id": "738edb6b-c222-4a95-8e4f-cdf32899f944",
   "metadata": {},
   "source": [
    "# The role of this notebook in this course"
   ]
  },
  {
   "cell_type": "markdown",
   "id": "979855d1-06c2-411b-a791-1240a75c63e0",
   "metadata": {},
   "source": [
    "In this notebook, and in the connected slides, we give a _hands on_ introduction to Process Mining\n",
    "- What is a process?\n",
    "- What is process mining?\n",
    "- How can we study processes? Why is it important?\n",
    "- What are pm4py and Disco?\n",
    "\n",
    "We hope you will have fun in this class and in the whole course!"
   ]
  },
  {
   "cell_type": "code",
   "execution_count": 8,
   "id": "f149c735-1a47-48e9-95ee-44524d02774e",
   "metadata": {},
   "outputs": [
    {
     "name": "stdout",
     "output_type": "stream",
     "text": [
      "The slides used today\n",
      "https://github.com/EMbeDS-education/ComputingDataAnalysisModeling20242025/raw/main/PDAI/slides/processMining/ProcessMiningTutorial.pdf\n"
     ]
    }
   ],
   "source": [
    "print('The slides used today')\n",
    "url_github_repo=\"https://github.com/EMbeDS-education/ComputingDataAnalysisModeling20242025/raw/main/PDAI/\"\n",
    "print(url_github_repo+\"slides/processMining/ProcessMiningTutorial.pdf\")"
   ]
  },
  {
   "cell_type": "markdown",
   "id": "b203baae-7bb9-4a8a-ac8d-20085e61189f",
   "metadata": {},
   "source": [
    "# Download files"
   ]
  },
  {
   "cell_type": "code",
   "execution_count": 9,
   "id": "1223fe34-d86b-4a92-85d4-9fade60131f7",
   "metadata": {},
   "outputs": [
    {
     "data": {
      "text/plain": [
       "('burgers.csv', <http.client.HTTPMessage at 0x7ff5a11f00d0>)"
      ]
     },
     "execution_count": 9,
     "metadata": {},
     "output_type": "execute_result"
    }
   ],
   "source": [
    "url = 'https://raw.githubusercontent.com/EMbeDS-education/ComputingDataAnalysisModeling20242025/main/PDAI/jupyter/jupyterNotebooks/PurchasingExample.csv'\n",
    "url2 = 'https://raw.githubusercontent.com/EMbeDS-education/ComputingDataAnalysisModeling20242025/main/PDAI/jupyter/jupyterNotebooks/burgers.csv'\n",
    "\n",
    "import urllib.request\n",
    "from pathlib import Path\n",
    "\n",
    "urllib.request.urlretrieve(url,Path(url).name)\n",
    "urllib.request.urlretrieve(url2,Path(url2).name)"
   ]
  },
  {
   "cell_type": "markdown",
   "id": "af52d0d1-98eb-4b04-be3c-8205999c0b66",
   "metadata": {},
   "source": [
    "# Understanding processes and process mining"
   ]
  },
  {
   "cell_type": "markdown",
   "id": "5e18b59d-7f57-4e8c-b47f-b08e03aa9629",
   "metadata": {},
   "source": [
    "## Further material"
   ]
  },
  {
   "cell_type": "markdown",
   "id": "fd8ceb72-07d9-4a97-9ebb-d3449b57630d",
   "metadata": {},
   "source": [
    "Part of the material for this section is from [here](https://pm4py.fit.fraunhofer.de/getting-started-page#understanding)\n",
    "\n",
    "Further material can be found here\n",
    "- [Disco Tour](https://fluxicon.com/disco/files/Disco-Tour.pdf)\n",
    "- [Coursera MOOC on Process Mining](https://www.coursera.org/learn/process-mining) (it is for free)\n",
    "  - You alaso find a preview (4 chapters) of a fundamental book on which the course is based!"
   ]
  },
  {
   "cell_type": "markdown",
   "id": "d21b92a9-04f7-4b30-b0b6-0b3f12678115",
   "metadata": {},
   "source": [
    "## Processes"
   ]
  },
  {
   "cell_type": "markdown",
   "id": "4c008500-33f4-4747-b3f5-caa4ad74e065",
   "metadata": {},
   "source": [
    "Most companies execute several _processes_\n",
    "- A process represents a _structured collection of __activities__, resources and personnel_ necessary to reach a __goal__\n",
    "- Examples\n",
    "  - The process to manufacture a car\n",
    "  - The process to cook a pizza\n",
    "  - The process to provide a service\n",
    "  - __The process to deliver burgers operated by a burger restaurant__\n",
    "  - ....\n",
    "  "
   ]
  },
  {
   "cell_type": "markdown",
   "id": "6f1915ea-99cc-4d8d-8ef9-bb996f55817a",
   "metadata": {},
   "source": [
    "## Burger delivery process"
   ]
  },
  {
   "cell_type": "markdown",
   "id": "2780d246-fe45-4e73-8213-4334e54bac31",
   "metadata": {},
   "source": [
    "Let us consider the burger example."
   ]
  },
  {
   "cell_type": "markdown",
   "id": "82b845ed-b7de-4b2c-9e17-0d5675569424",
   "metadata": {},
   "source": [
    "### Two process instances"
   ]
  },
  {
   "cell_type": "markdown",
   "id": "a297da71-ee0b-4fcf-ad66-348dd6ced117",
   "metadata": {},
   "source": [
    "Andrea calls the restaurant McPython's\n",
    "- From the __CaPythonE__ chain ;)\n",
    "\n",
    "__Lucy__ handles the order by performing the following __activities__, in this order, involving also the chef __Luigi__, and the delivery boy __Mike__:\n",
    "<ol>\n",
    "<li><i><b>Lucy</b> takes your order</i></li>\n",
    "<li><i><b>Lucy</b> notes down your address</i></li>\n",
    "<li><i><b>Lucy</b> notes down your preferred payment method</i></li>\n",
    "<li><i><b>Luigi</b> prepares your burger</i></li>\n",
    "<li><i><b>Lucy</b> grabs your can of soda</i></li>\n",
    "<li><i><b>Luigi</b> puts your burger in a box</i></li>\n",
    "<li><i><b>Lucy</b> wraps your order</i></li>\n",
    "<li><i><b>Mike</b> delivers your order</i></li>\n",
    "</ol>\n",
    "\n",
    "This is an __instance__ of the process, or a __trace__"
   ]
  },
  {
   "cell_type": "markdown",
   "id": "d5875a6a-a2d2-4f60-bc99-2f186f84117c",
   "metadata": {},
   "source": [
    "A few days afterwards, Daniele calls as well the restaurant.\n",
    "\n",
    "This time, __Randy__ handles the order with the help of the chef __Luigi__ and of the delivery boy __John__:\n",
    "<ol>\n",
    "                                    <li><i><b>Randy</b> takes your order</i></li>\n",
    "                                    <li><i><b>Randy</b> notes down your preferred payment method</i></li>\n",
    "                                    <li><i><b>Randy</b> notes down your address</i></li>\n",
    "                                    <li><i><b>Luigi</b> prepares your burger</i></li>\n",
    "                                    <li><i><b>Luigi</b> puts your burger in a box</i></li>\n",
    "                                    <li><i><b>Randy</b> wraps your order</i></li>\n",
    "                                    <li><i><b>John</b> delivers your order</i></li>\n",
    "                                </ol>\n",
    "                                \n",
    "This is another instance of the process, a trace, where\n",
    "- Daniele did not ask for drinks\n",
    "- Randy performed certain activities in a different order\n",
    "  - He first noted down the payment method, and then the address"
   ]
  },
  {
   "cell_type": "markdown",
   "id": "91600a62-90a7-4db7-b643-86c1f2df91b1",
   "metadata": {},
   "source": [
    "### Event logs"
   ]
  },
  {
   "cell_type": "markdown",
   "id": "637d5c4c-ffdf-4c27-96a6-bfc174badaf7",
   "metadata": {},
   "source": [
    "Several of such process instances are typically collected into one __event log__\n",
    "\n",
    "A CSV file with\n",
    "- One row per 'event' (per point 1-8, 1-7 above)\n",
    "  - An event corresponds to the execution of an activity\n",
    "- More rows/events per case/instance\n",
    "\n",
    "This is a very simple event log of the burger restaurant for Andrea's and Daniele's order"
   ]
  },
  {
   "cell_type": "code",
   "execution_count": null,
   "id": "f551566a-ee27-4eb7-8694-5ca8b40475a4",
   "metadata": {},
   "outputs": [],
   "source": [
    "import pandas as pd\n",
    "burgers_log=pd.read_csv(\"burgers.csv\")\n",
    "burgers_log"
   ]
  },
  {
   "cell_type": "markdown",
   "id": "0a1792ea-164b-4c58-826b-9faf688ffdee",
   "metadata": {},
   "source": [
    "Andrea's order"
   ]
  },
  {
   "cell_type": "code",
   "execution_count": null,
   "id": "4e7b4971-5589-4e30-ac09-f9f87cc78ddf",
   "metadata": {},
   "outputs": [],
   "source": [
    "burgers_log[burgers_log.case_id==1337]"
   ]
  },
  {
   "cell_type": "markdown",
   "id": "7a4e4b1d-57cf-4fb1-809a-ec00ca9fea89",
   "metadata": {},
   "source": [
    "### Process discovery"
   ]
  },
  {
   "cell_type": "markdown",
   "id": "de2786f7-b53a-4afe-9a32-f553fa2e8924",
   "metadata": {},
   "source": [
    "Starting from an event log, we can run __discovery algorithms__ from process mining to \n",
    "- synthetize a system description (a process) that matches the observed logs\n",
    "\n",
    "For the event log above we obtain:"
   ]
  },
  {
   "cell_type": "code",
   "execution_count": null,
   "id": "dc0277bf-0031-43a5-bd55-e6add244dd88",
   "metadata": {},
   "outputs": [],
   "source": [
    "from IPython.display import Image, display\n",
    "img=Image(url_github_repo+'slides/processMining/actual_simple_sample_model.png',width=1300)\n",
    "#savefig(img)\n",
    "display(img)"
   ]
  },
  {
   "cell_type": "markdown",
   "id": "2f7444a6-7d51-439f-923a-8ddd2e4bbd38",
   "metadata": {},
   "source": [
    "We can see that \n",
    "- 2 of events can be executed in parallel\n",
    "  - Note address and Register Payment Method\n",
    "- Grab soda is optional"
   ]
  },
  {
   "cell_type": "markdown",
   "id": "64b9506c-ee5e-4a10-8c82-e020d56c70a6",
   "metadata": {},
   "source": [
    "The above process can be generated using a Python library for Process mining\n",
    "- [PM4PY](https://pm4py.fit.fraunhofer.de/getting-started-page#understanding)\n",
    "- However, it is a bit too 'technical' for today's class. \n",
    "\n",
    "Today we will focus on a graphical easy-to-use industrial tool\n",
    "- [Disco](https://fluxicon.com/disco/)\n",
    "- It focuses on providing more intuitive process descriptions easily understandable by domain experts\n",
    "\n",
    "Disco's output for the simple event-log is:"
   ]
  },
  {
   "cell_type": "code",
   "execution_count": 10,
   "id": "f78a22a4-e995-4938-987d-a2dbad5728e3",
   "metadata": {},
   "outputs": [
    {
     "data": {
      "image/png": "[encoded data removed]",
      "text/plain": [
       "<IPython.core.display.Image object>"
      ]
     },
     "metadata": {
      "image/png": {
       "width": 500
      }
     },
     "output_type": "display_data"
    }
   ],
   "source": [
    "from IPython.display import Image, display\n",
    "#img=Image(filename='images/tentativeLecturePlan.png',width=700)\n",
    "\n",
    "img=Image(url_github_repo+'slides/processMining/burgers.png',width=500)\n",
    "display(img)"
   ]
  },
  {
   "cell_type": "markdown",
   "id": "db7dbf7d-d9dd-4637-9761-82c52b227508",
   "metadata": {},
   "source": [
    "# Process discovery with pm4py"
   ]
  },
  {
   "cell_type": "markdown",
   "id": "e60f4e3c-d355-400e-97c0-56288b73fc35",
   "metadata": {},
   "source": [
    "> __This example requires you to have [graphviz](https://graphviz.org/download/) installed__\n",
    "\n",
    "It works on colab"
   ]
  },
  {
   "cell_type": "markdown",
   "id": "a8f10f74-5adf-499d-b039-eb08366beebe",
   "metadata": {},
   "source": [
    "## Install/load libraries"
   ]
  },
  {
   "cell_type": "code",
   "execution_count": null,
   "id": "7e1345c3-5ee7-42da-912f-dd5e238466dd",
   "metadata": {},
   "outputs": [],
   "source": [
    "#The first time you need to install pm4py\n",
    "%pip install pm4py"
   ]
  },
  {
   "cell_type": "code",
   "execution_count": null,
   "id": "0fb43cb9-3205-47f1-a518-b7f42bf1294f",
   "metadata": {},
   "outputs": [],
   "source": [
    "#Now you import pandas and pm4py\n",
    "import pandas as pd\n",
    "import pm4py"
   ]
  },
  {
   "cell_type": "markdown",
   "id": "2d904587-afef-494b-9ed4-70dc82f80829",
   "metadata": {},
   "source": [
    "## Load and inspect data"
   ]
  },
  {
   "cell_type": "code",
   "execution_count": null,
   "id": "c0839bff-d467-43dd-a40b-6b0d2aa1f81b",
   "metadata": {},
   "outputs": [],
   "source": [
    "file_path=\"burgers.csv\"\n",
    "event_log = pd.read_csv(file_path, sep=',')\n",
    "\n",
    "num_events = event_log.shape[0]\n",
    "num_cases = len(event_log.case_id.unique())\n",
    "num_activities = len(event_log.activity.unique())\n",
    "print(\"Number of events:    {}\\nNumber of cases:      {}\\nNumber of activities: {}\".format(num_events, num_cases,num_activities))\n",
    "event_log"
   ]
  },
  {
   "cell_type": "code",
   "execution_count": null,
   "id": "319249da-be92-4f5e-8ab5-5159dcfd6b7e",
   "metadata": {},
   "outputs": [],
   "source": [
    "event_log = pm4py.format_dataframe(event_log, case_id='case_id', activity_key='activity', timestamp_key='timestamp')\n",
    "start_activities = pm4py.get_start_activities(event_log)\n",
    "end_activities = pm4py.get_end_activities(event_log)\n",
    "print(\"Start activities: {}\\nEnd activities: {}\".format(start_activities, end_activities))"
   ]
  },
  {
   "cell_type": "markdown",
   "id": "4fd910d3-946f-4088-8453-d852d7bce640",
   "metadata": {},
   "source": [
    "## Generate and view BPMN"
   ]
  },
  {
   "cell_type": "code",
   "execution_count": null,
   "id": "f19c31f1-650b-4f48-a61b-e9962244cd5e",
   "metadata": {},
   "outputs": [],
   "source": [
    "process_tree = pm4py.discover_process_tree_inductive(event_log)\n",
    "#print(process_tree)\n",
    "\n",
    "#from pm4py.visualization.process_tree import visualizer as pt_visualizer\n",
    "#gviz = pt_visualizer.apply(process_tree, parameters={pt_visualizer.Variants.WO_DECORATION.value.Parameters.FORMAT: \"png\"})\n",
    "#pt_visualizer.view(gviz)\n",
    "\n",
    "bpmn_model = pm4py.convert_to_bpmn(process_tree)\n",
    "pm4py.view_bpmn(bpmn_model)"
   ]
  },
  {
   "cell_type": "markdown",
   "id": "4261a641-88de-46f7-a20b-fef23d8eab34",
   "metadata": {},
   "source": [
    "## Generate and view Process map (aka dependecy graph, Disco-style)"
   ]
  },
  {
   "cell_type": "code",
   "execution_count": null,
   "id": "df65556d-6456-47ef-9194-011c7297700d",
   "metadata": {},
   "outputs": [],
   "source": [
    "dfg, start_activities, end_activities = pm4py.discover_dfg(event_log)\n",
    "pm4py.view_dfg(dfg, start_activities, end_activities)"
   ]
  },
  {
   "cell_type": "markdown",
   "id": "b46e46f7-0fcb-441c-b7f5-e725050ff5dc",
   "metadata": {},
   "source": [
    "## Further material"
   ]
  },
  {
   "cell_type": "markdown",
   "id": "5f86b7f0-afcf-4877-81c4-b46e893361ff",
   "metadata": {},
   "source": [
    "An application of pm4py to the healthcare domain\n",
    "- [Part 1](https://medium.com/@c3_62722/process-mining-with-python-tutorial-a-healthcare-application-part-1-ae02027a050)\n",
    "- [Part 2](https://medium.com/@c3_62722/process-mining-with-python-tutorial-a-healthcare-application-part-2-4cf57053421f)\n",
    "- [Part 3](https://medium.com/@c3_62722/process-mining-with-python-tutorial-a-healthcare-application-part-3-cc9af986c122)\n",
    "- [Part 4](https://medium.com/@c3_62722/process-mining-with-python-tutorial-a-healthcare-application-part-4-912286ee51b)"
   ]
  },
  {
   "cell_type": "markdown",
   "id": "af7e4107-7451-409e-833f-97160c2cf9b6",
   "metadata": {},
   "source": [
    "# Material for tutorial on Fluxicon Disco"
   ]
  },
  {
   "cell_type": "markdown",
   "id": "7802ed8c-9c59-46ce-8fd7-93ad8607d348",
   "metadata": {},
   "source": [
    "## Load data"
   ]
  },
  {
   "cell_type": "code",
   "execution_count": null,
   "id": "39d84843-a16b-41a9-b1cc-847c2badaf84",
   "metadata": {},
   "outputs": [],
   "source": [
    "import pandas as pd"
   ]
  },
  {
   "cell_type": "code",
   "execution_count": null,
   "id": "eaab8419-f632-486e-8ef1-b32ffe3b5684",
   "metadata": {},
   "outputs": [],
   "source": [
    "logs = pd.read_csv(\"PurchasingExample.csv\")\n",
    "logs[\"Start Timestamp\"]=pd.to_datetime(logs[\"Start Timestamp\"])\n",
    "logs[\"Complete Timestamp\"]=pd.to_datetime(logs[\"Complete Timestamp\"])\n",
    "logs.sort_values(by=\"Start Timestamp\",inplace=True)\n",
    "\n",
    "logs"
   ]
  },
  {
   "cell_type": "code",
   "execution_count": null,
   "id": "81ce3d20-da32-4d1e-a4f0-f33008134744",
   "metadata": {},
   "outputs": [],
   "source": [
    "logs.info()"
   ]
  },
  {
   "cell_type": "markdown",
   "id": "ad7efc3d-4305-489d-9e40-d9d5d001fb4b",
   "metadata": {},
   "source": [
    "## Extract the case with ID 1"
   ]
  },
  {
   "cell_type": "code",
   "execution_count": null,
   "id": "7c8d0758-5c43-4dd2-bb30-0e5bc12d522d",
   "metadata": {},
   "outputs": [],
   "source": [
    "logs[logs[\"Case ID\"]==1]"
   ]
  },
  {
   "cell_type": "markdown",
   "id": "4e6d13b1-5a62-41ed-8769-feaee25b746e",
   "metadata": {},
   "source": [
    "## Extract the case with ID 2"
   ]
  },
  {
   "cell_type": "code",
   "execution_count": null,
   "id": "bac6a522-b0a9-4f5f-977a-7c17f1621d29",
   "metadata": {},
   "outputs": [],
   "source": [
    "logs[logs[\"Case ID\"]==2]"
   ]
  },
  {
   "cell_type": "markdown",
   "id": "36befe6b-dfcc-486b-980f-2a8b35706741",
   "metadata": {},
   "source": [
    "## How many cases?"
   ]
  },
  {
   "cell_type": "code",
   "execution_count": null,
   "id": "15bdca44-1735-4dfc-a97a-4ff920eef3c1",
   "metadata": {},
   "outputs": [],
   "source": [
    "len(logs[\"Case ID\"].unique())"
   ]
  }
 ],
 "metadata": {
  "kernelspec": {
   "display_name": "env_research",
   "language": "python",
   "name": "env_research"
  },
  "language_info": {
   "codemirror_mode": {
    "name": "ipython",
    "version": 3
   },
   "file_extension": ".py",
   "mimetype": "text/x-python",
   "name": "python",
   "nbconvert_exporter": "python",
   "pygments_lexer": "ipython3",
   "version": "3.9.10"
  },
  "toc-autonumbering": true,
  "toc-showmarkdowntxt": false
 },
 "nbformat": 4,
 "nbformat_minor": 5
}
